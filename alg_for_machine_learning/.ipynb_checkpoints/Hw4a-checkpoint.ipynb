{
 "cells": [
  {
   "cell_type": "markdown",
   "metadata": {
    "colab_type": "text",
    "id": "ijlm0HCoSFBr"
   },
   "source": [
    "$\\qquad$ $\\qquad$$\\qquad$  **TDA 232 / DIT 381: Home Assignment 4, part 1 - Image classification (20 points)** <br />\n",
    "$\\qquad$ $\\qquad$$\\qquad$ **Goal: Image classification using fully-connected and convolutional neural networks** <br />\n",
    "$\\qquad$ $\\qquad$$\\qquad$                   **Grader: Emilio, Simon** <br />\n",
    "$\\qquad$ $\\qquad$$\\qquad$                     **Due Date: 22/5** <br />\n",
    "$\\qquad$ $\\qquad$$\\qquad$                   **Submitted by: Pontus Havström, 970817-6459, ponhav@student.chalmers.se** <br />\n",
    "$\\qquad$ $\\qquad$$\\qquad$ **&emsp;&emsp;&emsp;&emsp;&emsp;&emsp;&emsp;Qufei Wang, 900212-6952, qufei@student.chalmers.se**"
   ]
  },
  {
   "cell_type": "markdown",
   "metadata": {
    "colab_type": "text",
    "id": "lOj01XcWSFBu"
   },
   "source": [
    "General guidelines:\n",
    "* All solutions to theoretical and pratical problems must be submitted in this notebook, and equations should be formatted using LaTeX math-mode.\n",
    "* For each exercise part, add cells containing the requested text, code or figures into this notebook.\n",
    "* Your notebook should contain all required cell output, so that we don't have to execute the code. However, should we decide to, your notebook should run and reproduce the results up to stochastic variability. A good idea is to make sure it runs on Google Colab before submission.\n",
    "* **Submit your solutions as notebook file (`.ipynb`) and in HTML format (`.html`).** To export this notebook to HTML format click `File` $\\rightarrow$ `Download as` $\\rightarrow$ `HTML`.\n",
    "\n",
    "> **Note:** Training neural networks is computationally demanding and may take  time if you run it on your laptop. Running the code in Google Colab will likely be faster and you can even get access to a GPU.\n",
    "\n",
    "> **Note:** To enable GPU hardware accelartion in Google Colab, click the `Change runtime type` field in the `runtime` drop-down menu, then choose `GPU` under hardware acceleration.\n",
    "\n",
    "[![Open In Colab](https://colab.research.google.com/assets/colab-badge.svg)](https://colab.research.google.com/github/simonpf/teaching/blob/master/machine_learning/2020/HW4a_2020.ipynb)"
   ]
  },
  {
   "cell_type": "markdown",
   "metadata": {
    "colab_type": "text",
    "id": "oJO7bSH7SFBw"
   },
   "source": [
    "## Required software\n",
    "\n",
    "For this assignment you will need to install the following Python packages:\n",
    "- `pytorch`: Installation instructions can be found on the [pytorch homepage](https://pytorch.org/get-started/locally/) (pre-installed in Google Colab)\n",
    "- `torchvision`: Typically installed with pytorch\n",
    "- `catsndogs`: The data set we will be working with. To install it, run:\n",
    "\n",
    "```\n",
    "pip install catsndogs\n",
    "\n",
    "```\n",
    "\n",
    "> **Note:** In Google Colab you can install packages using   `!pip  <package_name>`"
   ]
  },
  {
   "cell_type": "code",
   "execution_count": 1,
   "metadata": {
    "colab": {
     "base_uri": "https://localhost:8080/",
     "height": 109
    },
    "colab_type": "code",
    "id": "arwULwEQSV6w",
    "outputId": "597f3e56-36fb-41d1-b9e1-5a49bbd62a6f"
   },
   "outputs": [
    {
     "name": "stdout",
     "output_type": "stream",
     "text": [
      "Defaulting to user installation because normal site-packages is not writeable\n",
      "Requirement already satisfied: torchvision in /home/qufei/.local/lib/python3.6/site-packages (0.6.0)\n",
      "Requirement already satisfied: numpy in /home/qufei/.local/lib/python3.6/site-packages (from torchvision) (1.18.1)\n",
      "Requirement already satisfied: torch==1.5.0 in /home/qufei/.local/lib/python3.6/site-packages (from torchvision) (1.5.0)\n",
      "Requirement already satisfied: pillow>=4.1.1 in /usr/lib/python3/dist-packages (from torchvision) (5.1.0)\n",
      "Requirement already satisfied: future in /home/qufei/.local/lib/python3.6/site-packages (from torch==1.5.0->torchvision) (0.18.2)\n",
      "\u001b[33mWARNING: You are using pip version 20.1; however, version 20.1.1 is available.\n",
      "You should consider upgrading via the '/usr/bin/python3 -m pip install --upgrade pip' command.\u001b[0m\n"
     ]
    }
   ],
   "source": [
    "# Installing software\n",
    "!pip install torchvision"
   ]
  },
  {
   "cell_type": "code",
   "execution_count": 2,
   "metadata": {
    "colab": {
     "base_uri": "https://localhost:8080/",
     "height": 219
    },
    "colab_type": "code",
    "id": "RIFGuT0SSX__",
    "outputId": "621c46fe-e555-4ac5-90ca-fcf576bbab6f"
   },
   "outputs": [
    {
     "name": "stdout",
     "output_type": "stream",
     "text": [
      "Defaulting to user installation because normal site-packages is not writeable\n",
      "Requirement already satisfied: catsndogs in /home/qufei/.local/lib/python3.6/site-packages (0.0.6)\n",
      "Requirement already satisfied: appdirs in /home/qufei/.local/lib/python3.6/site-packages (from catsndogs) (1.4.4)\n",
      "Requirement already satisfied: requests in /usr/lib/python3/dist-packages (from catsndogs) (2.18.4)\n",
      "\u001b[33mWARNING: You are using pip version 20.1; however, version 20.1.1 is available.\n",
      "You should consider upgrading via the '/usr/bin/python3 -m pip install --upgrade pip' command.\u001b[0m\n"
     ]
    }
   ],
   "source": [
    "!pip install catsndogs"
   ]
  },
  {
   "cell_type": "code",
   "execution_count": 3,
   "metadata": {
    "colab": {},
    "colab_type": "code",
    "id": "8y6s_jG2SYf1"
   },
   "outputs": [],
   "source": [
    "import torch"
   ]
  },
  {
   "cell_type": "markdown",
   "metadata": {
    "colab_type": "text",
    "id": "V1fuGqu0SFBz"
   },
   "source": [
    "# Assignment 4, Part 1\n",
    "# Theoretical exercises"
   ]
  },
  {
   "cell_type": "markdown",
   "metadata": {
    "colab_type": "text",
    "id": "r9FB8y7rSFB2"
   },
   "source": [
    "## [Exercise 1: Backpropagation by hand, 1 point]\n",
    "\n",
    "Consider the simple feed-forward neural network depicted in the figure below. This network\n",
    "consists of an input layer $\\mathbf{y}_0 = \\mathbf{x}$ with 3 features,  one hidden layer\n",
    "with activations $\\mathbf{y}_1$ and a one-dimensional output layer with activations $\\mathbf{y}_2$.\n",
    "\n",
    "![Neural network illustration.](https://raw.githubusercontent.com/simonpf/teaching/master/machine_learning/2020/simple_nn.png)\n",
    "\n",
    "\n",
    "The activations of a layer $i$ are computed by applying a linear transformation given by the weight matrix\n",
    "$\\mathbf{W}_i$ to the input activations $\\mathbf{y}_{i - 1}$ producing the intermediate values $\\mathbf{z}_i$:\n",
    "\n",
    "$$\n",
    "z_{i : j} = \\sum_k W_{i:j, k} y_{i - 1:k} \\\\\n",
    "$$\n",
    "\n",
    "This is followed by the element-wise application of the layers'\n",
    "activation function $f_i$ to the intermediate values $\\mathbf{z}_i$:\n",
    "\n",
    "$$\n",
    "y_{i:j} = f_i (z_{i:j})\n",
    "$$\n",
    "\n",
    "> **Note:** The notation here uses '$:$' to separate layer from element indices. $W_{i:j,k}$ thus refers to the element in row $j$ and column $k$ in the weigth matrix $\\mathbf{W}_i$ of the $i$th layer.\n"
   ]
  },
  {
   "cell_type": "markdown",
   "metadata": {
    "colab_type": "text",
    "id": "JDuMPy5SSFB4"
   },
   "source": [
    "### 1, a)\n",
    "\n",
    "Given the derivative of an error term $E$ with respect to the activation of the output neuron \n",
    "$\\frac{dE}{dy_{2:0}}$, derive expressions for the derivatives of the error term with respect to the weights\n",
    "$W_{i:j,k}$ and activations $y_{i:j}$ of the remaining layers of the network.\n",
    "\n",
    "To simplify the results, you are encouraged to reuse derivatives you have already computeds in the expressions for the  downstream derivatives.\n",
    "\n",
    "$$\n",
    "\\begin{align}\n",
    "\\frac{dE}{dW_{2:i, j}} = \\: ? \\\\\n",
    "\\frac{dE}{dy_{1:j}} = \\: ? \\\\\n",
    "\\frac{dE}{dW_{1:i, j}} = \\: ? \\\\\n",
    "\\frac{dE}{dy_{0:j}} = \\: ? \\\\\n",
    "\\end{align}\n",
    "$$\n",
    "\n",
    "If your calculations are correct, you should see that you can express the derivatives of the error function \n",
    "around a given layer in the network using the derivatives from the next higher layer. This yields a simple\n",
    "recipe to successively compute the gradients in a feed forward neural network by starting at the last layer and\n",
    "then computing the gradients layer-by-layer as you move backwards through the network. This method is commonly\n",
    "referred to as **backpropagation**."
   ]
  },
  {
   "cell_type": "markdown",
   "metadata": {
    "colab_type": "text",
    "id": "TKtdHxIbSfDk"
   },
   "source": [
    "### 1, a) Answer\n",
    "For the activation layer $\\mathbf{y}_2$, we have\n",
    "$$\n",
    "\\begin{align}\n",
    "y_{2:0} &= f_{2}(z_{2:0}) \\\\\n",
    "z_{2:0} &= W_{2:0,0}y_{1:0} + W_{2:0,1}y_{1:1} + W_{2:0,2}y_{1:2}\n",
    "\\end{align}\n",
    "$$\n",
    "By applying the *Chain Rule of Calculus*, we have\n",
    "$$\n",
    "\\begin{align}\n",
    "\\frac{dE}{dW_{2:0,j}} &= \\frac{dE}{dy_{2:0}}\\frac{dy_{2:0}}{dz_{2:0}}\\frac{dz_{2:0}}{dW_{2:0, j}} = \\frac{dE}{dy_{2:0}}\\cdot f_2' \\cdot y_{1:j} \\\\\n",
    "\\frac{dE}{dy_{1:j}} &= \\frac{dE}{dy_{2:0}}\\frac{dy_{2:0}}{dz_{2:0}}\\frac{dz_{2:0}}{dy_{1:j}} = \\frac{dE}{dy_{2:0}}\\cdot f_2' \\cdot W_{2:0,j} \\\\\n",
    "j &\\in \\{0, 1, 2\\}\n",
    "\\end{align}\n",
    "$$\n",
    "For the activation layer $\\mathbf{y}_1$, we have\n",
    "$$\n",
    "\\begin{align}\n",
    "y_{1:j} &= f_{1}(z_{1:j}) \\\\\n",
    "z_{1:j} &= W_{1:j,0}y_{0:0} + W_{1:j,1}y_{0:1} + W_{1:j,2}y_{0:2} \\\\\n",
    "j &\\in \\{0, 1, 2\\}\n",
    "\\end{align}\n",
    "$$\n",
    "Using the same rule,\n",
    "$$\n",
    "\\begin{align}\n",
    "\\frac{dE}{dW_{1:i, j}} &= \\frac{dE}{dy_{1:i}}\\frac{dy_{1:i}}{dz_{1:i}}\\frac{dz_{1:i}}{dW_{1:i,j}} = \\frac{dE}{dy_{1:i}} \\cdot f_1' \\cdot y_{0:j}\\\\\n",
    "\\frac{dE}{dy_{0:j}} &= \\sum_i(\\frac{dE}{dy_{1:i}}\\frac{dy_{1:i}}{dz_{1:i}}\\frac{dz_{1:i}}{dy_{0:j}}) = \\sum_i(\\frac{dE}{dy_{1:i}} \\cdot f_1' \\cdot W_{1:i,j}) \\\\\n",
    "i,j &\\in \\{0, 1, 2\\}\n",
    "\\end{align}\n",
    "$$"
   ]
  },
  {
   "cell_type": "markdown",
   "metadata": {
    "colab_type": "text",
    "id": "juBZHHzpSFB6"
   },
   "source": [
    "## [Exercise 2: Loss function for binary classification, 1 point]\n",
    "\n",
    "Assume that your task is to predict a binary class variable $Y \\in \\{0, 1\\}$ conditional on some input $X$ using a neural network. To do so you want to train a network to predict the probability $p$ of a bernoulli distribution:\n",
    "\n",
    "\\begin{align}\n",
    "P(Y | X) \\sim \\text{Bernoulli}(p = f(x)),\n",
    "\\end{align}\n",
    "\n",
    "where $f$ represents the function to be learned by the neural network.\n",
    "\n",
    "### 2, a)\n",
    "\n",
    "Given independent pairs of samples $(x_1,  y_1), \\ldots, (x_n, y_n)$ show that minimizing the binary cross entropy loss\n",
    "\n",
    "\\begin{align}\n",
    "BCE = -\\frac{1}{n}\\sum_{i = 1}^n (1 - y)\\ \\log(1 - f(x)) + y\\ \\log(f(x))\n",
    "\\end{align}\n",
    "\n",
    "maximizes the likelihood of the data.\n",
    "\n",
    "> Hint: Note that the probability function of Bernoulli distributed variable $Y \\sim \\text{Bernoulli}(p)$ can be written $P(Y = y) = p^y\\ (1- p)^{(1-y)}$"
   ]
  },
  {
   "cell_type": "markdown",
   "metadata": {
    "colab_type": "text",
    "id": "JN3K8rjK_rTf"
   },
   "source": [
    "### 2,a) Answer\n",
    "The probability of a single pair $(x_i, y_i)$ of sample data is $P(Y = y_i | x_i) = f(x_i)^{y_i}(1 - f(x_i))^{(1-y_i)}$.\n",
    "\n",
    "Given that the data points are independent, we have the likelihood representation as\n",
    "$$\n",
    "L(\\mathbf{Y} | \\mathbf{X}) = \\prod_{i=1}^{n}P(Y = y_i | x_i)\n",
    "$$\n",
    "Take the logarithm of the above expression, we have\n",
    "$$\n",
    "logL(\\mathbf{Y} | \\mathbf{X}) = \\sum_{i=1}^nlogP(Y = y_i | x_i) = \\sum_{i=1}^n((1-y_i)log(1 - f(x_i)) + y_ilog(f(x_i)))\n",
    "$$\n",
    "Maximizing the likelihood $L$ is the same as maximizing $logL$. By comparing the expression of $logL$ with BCE, we can draw the desired conclusion."
   ]
  },
  {
   "cell_type": "markdown",
   "metadata": {
    "colab_type": "text",
    "id": "zxOOEOTDSFCA"
   },
   "source": [
    "## [Exercise 3: Counting parameters in networks, 1 point]\n",
    "\n",
    "### 3, a)\n",
    "Imagine you apply a two layer fully connected network to a 28x28 rgb image. The hidden layer has dimension 256 and the output is of size 10. How many parameters are necessary? Include the bias parameters."
   ]
  },
  {
   "cell_type": "markdown",
   "metadata": {
    "colab_type": "text",
    "id": "0aYyGdrXSmSS"
   },
   "source": [
    "### 3, a) Answer\n",
    "The 28x28 rgb image has $28\\cdot28=784$ pixels per, where each pixel has three channels (red ,green, and blue). The image can be represented as a three-dimensional array with dimensions 28x28x3. To apply the fully connected network, we need to concatenate the image into a one-dimensional contiguous array of channel values for each pixel. The input array to the network after \"flattening\" the image then has $28\\cdot 28\\cdot 3 = 2352$ elements. As the hidden layer has dimension 256, the first layer of weights (connecting the input layer to the hidden layer) has dimensions $$W_1: \\quad(28\\cdot 28\\cdot 3,256)=(2352,256)$$ Additionally, we have a first layer of biases, one for each neuron in the hidden layer, with dimensions $$b_1:\\quad(256)$$ The second layer of weights should connect the hidden layer (with dimension 256) to the output layer (with dimension 10), meaning that it has dimensions $$W_2:\\quad(256,10)$$ Finally, each element in the output layer has a bias term, meaning that the second layer of biases has dimensions $$b_2:\\quad (10)$$\n",
    "\n",
    "As such, the total number of parameters necessary to define the fully connected network is \n",
    "$$2352 \\cdot 256 + 256 + 256\\cdot 10 + 10 = 602112 + 256 + 2560 + 10 = $$\n",
    "$$= 604938$$\n",
    "\n",
    "Generally, we can calculate the number of parameters of a fully connected network by counting the connections in the network (and adding the biases). This is equivalent to adding up the products of the dimensions of directly connected layers (making up the weights) and the dimensions of all layers except the input layer (making up the biases). "
   ]
  },
  {
   "cell_type": "markdown",
   "metadata": {
    "colab_type": "text",
    "id": "wd1ampF_SFCB"
   },
   "source": [
    "### 3, b)\n",
    "\n",
    "Apply the following network to the same image, how many parameters are needed? Include bias parameters. Show your calculations.\n",
    "\n",
    "* Convolutional layer with 8 3x3 filters (stride 1).\n",
    "\n",
    "* Max pooling layer (2x2) (stride 2).\n",
    "\n",
    "* Convolutional layer with 16 3x3 filter (stride 1).\n",
    "\n",
    "* Fully connected layer to ouput of size 10."
   ]
  },
  {
   "cell_type": "markdown",
   "metadata": {
    "colab_type": "text",
    "id": "h9bXzzodSo0Y"
   },
   "source": [
    "### 3, b) Answer\n",
    "First, we consider the dimensions of the outputs from each layer. \n",
    "\n",
    "Convolving the input image of pixel dimensions 28x28 with 3x3 filters using a stride of 1 will result in feature maps of dimensions 28-2x28-2 = 26x26, as the filter can pass over the image 26 times across each spatial dimension. This is done for each filter (eight), and each filter has a depth of three (corresponding to the three color channels). As such, the output from the first convolutional layer has dimensions (26x26x24). \n",
    "\n",
    "For a 2x2 pooling filter with stride 2, the 26x26 images are halved to 13x13 since each 2x2 pooling filter can be applied $26/2=13$ times across each dimension for a stide of 1. The max pooling layer only affects the height and width of the output, and not the depth. The max pooling layer then has output dimensions (13x13x24).\n",
    "\n",
    "Similarly to the first layer, convolving images of size 13x13 with 3x3 filters and stride 1 produces feature maps of dimensions 13-2x13-2 = 11x11, as the filters is applied to 11 3x3 patches of the input. We had a depth of $8\\cdot 3 = 24$ (8 rgb feature maps) from the previous layer. Applying 16 rgb filters will produce 16 new rgb feature maps for every rgb feature map from the previous layer, resulting in $8\\cdot 16 = 128$ rgb feature maps. This means that the depth of the output to the second convolutional layer is $128\\cdot 3 = 384$ (number of feature maps times number of color channels). *A more \"correct\" way of seeing it could be that we apply 16 filters, each having a depth equal to the depth of the output from the previous layer. In this case, we then have 16 (3x3x24) filters.* The total dimensions of the output of this layer is then (11x11x384). \n",
    "\n",
    "The fully connected layer should connect the previous output of dimensions (11x11x384) to the final output of dimensions (1x1x10). This is done by \"flattening\" the output from the second convolutional layer as one-dimensional array, which then has $11\\cdot 11\\cdot 384 = 46464$ elements. As explained in task 3, a) this fully connected layer should then have dimensions (46464,10) to produce a final output of size 10. \n",
    "\n",
    "We can now count the number of parameters needed in this network. Each 3x3x3 filter has one weight $w_{i,j,k}$ per element and separate weights for each channel. Also, each filter has a bias $b$. The max pooling layer has no trainable parameters.\n",
    "\n",
    "**Convolutional layer 1:** 8 3x3x3 filters, each with its respective bias.\n",
    "$$\\text{# parameters: } 8\\cdot(3\\cdot 3\\cdot 3) + 8 = 216 + 8 = 224$$\n",
    "\n",
    "**Convolutional layer 2:** 16 3x3x24 filters, each with its respective bias.\n",
    "$$\\text{# parameters: } 16\\cdot(3\\cdot 3\\cdot 3\\cdot 8) + 16 = 16\\cdot216 + 16 = 3472 $$\n",
    "\n",
    "**Fully connected layer:** Weights of dimensions (46464,10) and 10 biases. \n",
    "$$\\text{# parameters: } 46464\\cdot10 + 10 = 468346 $$\n",
    "\n",
    "Finally, the total number of parameters are \n",
    "$$224 + 3472 + 464650 = 465322$$\n",
    "when not counting non-trainable parameters such as stride and filter sizes."
   ]
  },
  {
   "cell_type": "markdown",
   "metadata": {
    "colab_type": "text",
    "id": "9ooqlOUcSFCD"
   },
   "source": [
    "## [Excercise 4: Calculating output dimensions of a convolutional layer, 1 point]\n",
    "\n",
    "Assume you apply a convolutional layer with 8 3x3 filters (stride 1) on a rgb 28x13 image. What will the dimensions of the output be (assuming no padding is done in the convolution)?"
   ]
  },
  {
   "cell_type": "markdown",
   "metadata": {
    "colab_type": "text",
    "id": "Rqk3HRD9Srz_"
   },
   "source": [
    "### 4: Answer\n",
    "Each filter produces its own feature map so there will be eight output rgb images. Since the input is an rgb image of dimension (28x13x3), the filters actually have dimension (3x3x3) as each channel has its own parameters. When forming the output of the convolutional layer, each feature map thus also has three color channels. For these reasons, the depth of the output layer will be $8\\cdot 3 = 24$ (the number of filters times the number of channels).\n",
    "\n",
    " A 3x3 filter can be applied to 3x3 patches of the 28x13 image $28-2$ times across the first dimension and $13-2$ times across the second when using a stride of 1 and no padding. As each such application of the filter yields one element in the feature map, each feature map will have dimensions 26x11 (only counting pixels, and not the depth). \n",
    " \n",
    "Finally, the output layer will have dimensions 26x11x24, or equivalently, 8 rgb images of pixel size 26x11. \n",
    "\n"
   ]
  },
  {
   "cell_type": "markdown",
   "metadata": {
    "colab_type": "text",
    "id": "63VCVlo9SFCF"
   },
   "source": [
    "## [Excercise 5: Applying a filter to an image, 1 point]"
   ]
  },
  {
   "cell_type": "markdown",
   "metadata": {
    "colab_type": "text",
    "id": "vlK0O5xXSFCG"
   },
   "source": [
    "\\begin{align}\n",
    "\\text{Image:} \n",
    "\\begin{bmatrix}2 & 2 & 1 & 2 \\\\\n",
    "               -2 & -2 & -1 & 1 \\\\\n",
    "               1 & 1 & 2 & 1 \\\\\n",
    "               1 & 1 & 3 & 1 \n",
    "\\end{bmatrix}\n",
    "\\ \\ \n",
    "\\text{Filter:}\n",
    "\\begin{bmatrix}1 & 1\n",
    "\\\\-1 & -1\n",
    "\\end{bmatrix}\n",
    "\\end{align}\n",
    "\n",
    "Convolve the filter over the image and apply ReLU, use a stride of 2 with a bias of -2. Try to give an explanation for the output, what is the filter detecting?"
   ]
  },
  {
   "cell_type": "markdown",
   "metadata": {
    "colab_type": "text",
    "id": "2ChrRgkVSv_g"
   },
   "source": [
    "### 5: Answer\n",
    "Convolving the filter is done by performing elementwise multiplication of the filter with equal-sized (4x4) patches of the image, and adding up all the products, resulting in a feature map. The bias is also *added* to every element in the feature map after performing the weighted summation. Starting at the uppermost left corner of the image, we then repeat the convolution by moving the filter with index steps equal to the stride which in this case is two, across both dimensions of the image. \n",
    "\n",
    "\\begin{align}\n",
    "\\text{Image:} \n",
    "\\begin{bmatrix}\\color{green}{2} & \\color{green}{2} & \\color{red}{1} & \\color{red}{2} \\\\\n",
    "               \\color{green}{-2} & \\color{green}{-2} & \\color{red}{-1} & \\color{red}{1} \\\\\n",
    "               \\color{blue}{1} & \\color{blue}{1} & \\color{purple}{2} & \\color{purple}{1} \\\\\n",
    "               \\color{blue}{1} & \\color{blue}{1} & \\color{purple}{3} & \\color{purple}{1} \n",
    "\\end{bmatrix}\n",
    "\\ \\ \n",
    "\\text{Filter:}\n",
    "\\begin{bmatrix}1 & 1\n",
    "\\\\-1 & -1\n",
    "\\end{bmatrix}\n",
    "\\ \\\n",
    "\\text{Bias:}\n",
    "\\color{orange}{-2}\n",
    "\\end{align}\n",
    "\n",
    "The resulting feature map after convolving the filter over the image is:\n",
    "\n",
    "\\begin{align}\n",
    "\\text{Feature map:}\n",
    "\\begin{bmatrix}\\color{orange}{-2+}\\color{green}{2+2+2+2} & \\color{orange}{-2+}\\color{red}{1+2+1-1}\n",
    "\\\\\\color{orange}{-2+}\\color{blue}{1+1-1-1} & \\color{orange}{-2+}\\color{purple}{2+1-3-1}\n",
    "\\end{bmatrix}\n",
    "= \n",
    "\\begin{bmatrix}\\color{green}{6} & \\color{red}{1}\n",
    "\\\\\\color{blue}{-2} & \\color{purple}{-3}\n",
    "\\end{bmatrix}\n",
    "\\end{align}\n",
    "\n",
    "Next, we apply the activation function to each of the elements in the feature map. Here, we use a rectified linear unit (ReLU) defined as \n",
    "$$\\mathrm{ReLU}(x) = \\max(0,x)$$\n",
    "meaning that it returns 0 for negative inputs and simply returns the value for positive inputs. Applying this function to our intermediate feature map above, we get the following final feature map:\n",
    "\n",
    "\\begin{align}\n",
    "\\text{Feature map with ReLU:}\n",
    "\\begin{bmatrix}6 & 1\n",
    "\\\\ 0 & 0\n",
    "\\end{bmatrix}\n",
    "\\end{align}\n",
    "\n",
    "It seems that the filter detects horizontal edges or lines, since the filter is symmetrical in the lower and upper elements. Looking at the input, we see that the image has a horisontal line of negative values (which could be seen as dark pixels), surrounded by positive values (which equivalently could be light pixels). The output has converted this image two lines, where the uppermost are positive (light) and the lowermost are 0 (gray), suggesting that a\n",
    "horizontal edge or line between light and dark areas in the image was found.\n",
    "\n",
    "**Note:** The convolution operator used here is technically cross-correlation, but we used this definition since this was how the convolution operation was presented in the lectures."
   ]
  },
  {
   "cell_type": "markdown",
   "metadata": {
    "colab_type": "text",
    "id": "h16PLpjdSFCH"
   },
   "source": [
    "# Practical exercises\n",
    "\n",
    "In this practical exercise, you will develop a classification algorithm that predicts whether an image contains a cat or a dog. You wil do this using the `pytorch` deep learning framework."
   ]
  },
  {
   "cell_type": "markdown",
   "metadata": {
    "colab_type": "text",
    "id": "MC7p7d_VSFCJ"
   },
   "source": [
    "## The data\n",
    "\n",
    "The data that you will be using in this exercise consists of images of cats and dogs. The dataset is available through the `catsndogs` Python package. The package automatically downloads the data and provides access to the image files in the dataset."
   ]
  },
  {
   "cell_type": "code",
   "execution_count": 4,
   "metadata": {
    "colab": {},
    "colab_type": "code",
    "id": "wP8xRtxoSFCL"
   },
   "outputs": [],
   "source": [
    "from catsndogs.training import cats, dogs # The lists of cat and dog images."
   ]
  },
  {
   "cell_type": "markdown",
   "metadata": {
    "colab_type": "text",
    "id": "dEca_ZPvSFCT"
   },
   "source": [
    "Below, a few examples of the images in the dataset."
   ]
  },
  {
   "cell_type": "code",
   "execution_count": 5,
   "metadata": {
    "colab": {
     "base_uri": "https://localhost:8080/",
     "height": 299
    },
    "colab_type": "code",
    "id": "qDQ0KyhuSFCV",
    "outputId": "525257e3-2120-432f-ced4-3410f317cf3c"
   },
   "outputs": [
    {
     "data": {
      "image/png": "[encoded data removed]",
      "text/plain": [
       "<Figure size 576x288 with 8 Axes>"
      ]
     },
     "metadata": {
      "needs_background": "light"
     },
     "output_type": "display_data"
    }
   ],
   "source": [
    "%matplotlib inline\n",
    "import matplotlib.pyplot as plt\n",
    "import numpy as np\n",
    "from PIL import Image\n",
    "\n",
    "f, axs = plt.subplots(2, 4, figsize = (8, 4))\n",
    "for i in range(4):\n",
    "    img = np.random.choice(cats)\n",
    "    ax = axs[0, i]\n",
    "    ax.set_title(\"A Cat\")\n",
    "    ax.imshow(Image.open(img))\n",
    "for i in range(4):\n",
    "    img = np.random.choice(dogs)\n",
    "    ax = axs[1, i]\n",
    "    ax.set_title(\"A Dog\")\n",
    "    ax.imshow(Image.open(img))\n",
    "plt.tight_layout()"
   ]
  },
  {
   "cell_type": "markdown",
   "metadata": {
    "colab_type": "text",
    "id": "gmg0h1nPSFCd"
   },
   "source": [
    "## Getting started with pytorch\n",
    "\n",
    "The following part provides a brief introduction to the fundamentals of `pytorch`."
   ]
  },
  {
   "cell_type": "markdown",
   "metadata": {
    "colab_type": "text",
    "id": "_0N8mo8DSFCe"
   },
   "source": [
    "### Why pytorch?\n",
    "\n",
    "As most other popular deep learning frameworks, `pytorch` provides the following features:\n",
    "\n",
    "- automatic differentiation,\n",
    "- GPU support,\n",
    "- flexible composition of neural network models,\n",
    "- numerous pre-defined network components and optimization methods.\n",
    "\n",
    "Pytorch strikes a good balance between flexibility, usability and performance, making it well suited for an introductory exercise as this one. There of course exist quite a few alternative frameworks, but the general concepts that you will learn in this exercise will apply also for them."
   ]
  },
  {
   "cell_type": "markdown",
   "metadata": {
    "colab_type": "text",
    "id": "yJkJI7TbSFCg"
   },
   "source": [
    "### Accessing documentation\n",
    "\n",
    "Note that you can access source code documentation from inside the jupyter notebook using `?` and the `help` function. Documentation of the different torch modules can be found on the [pytorch home page](https://pytorch.org/docs/stable/index.html). "
   ]
  },
  {
   "cell_type": "code",
   "execution_count": 6,
   "metadata": {
    "colab": {
     "base_uri": "https://localhost:8080/",
     "height": 1000
    },
    "colab_type": "code",
    "id": "bOhzD2g-SFCg",
    "outputId": "c22fca4f-ecb3-4b6b-8657-754ac4681838",
    "scrolled": true
   },
   "outputs": [
    {
     "name": "stdout",
     "output_type": "stream",
     "text": [
      "Help on built-in function tensor:\n",
      "\n",
      "tensor(...)\n",
      "    tensor(data, dtype=None, device=None, requires_grad=False, pin_memory=False) -> Tensor\n",
      "    \n",
      "    Constructs a tensor with :attr:`data`.\n",
      "    \n",
      "    .. warning::\n",
      "    \n",
      "        :func:`torch.tensor` always copies :attr:`data`. If you have a Tensor\n",
      "        ``data`` and want to avoid a copy, use :func:`torch.Tensor.requires_grad_`\n",
      "        or :func:`torch.Tensor.detach`.\n",
      "        If you have a NumPy ``ndarray`` and want to avoid a copy, use\n",
      "        :func:`torch.as_tensor`.\n",
      "    \n",
      "    .. warning::\n",
      "    \n",
      "        When data is a tensor `x`, :func:`torch.tensor` reads out 'the data' from whatever it is passed,\n",
      "        and constructs a leaf variable. Therefore ``torch.tensor(x)`` is equivalent to ``x.clone().detach()``\n",
      "        and ``torch.tensor(x, requires_grad=True)`` is equivalent to ``x.clone().detach().requires_grad_(True)``.\n",
      "        The equivalents using ``clone()`` and ``detach()`` are recommended.\n",
      "    \n",
      "    Args:\n",
      "        data (array_like): Initial data for the tensor. Can be a list, tuple,\n",
      "            NumPy ``ndarray``, scalar, and other types.\n",
      "        dtype (:class:`torch.dtype`, optional): the desired data type of returned tensor.\n",
      "            Default: if ``None``, infers data type from :attr:`data`.\n",
      "        device (:class:`torch.device`, optional): the desired device of returned tensor.\n",
      "            Default: if ``None``, uses the current device for the default tensor type\n",
      "            (see :func:`torch.set_default_tensor_type`). :attr:`device` will be the CPU\n",
      "            for CPU tensor types and the current CUDA device for CUDA tensor types.\n",
      "        requires_grad (bool, optional): If autograd should record operations on the\n",
      "            returned tensor. Default: ``False``.\n",
      "        pin_memory (bool, optional): If set, returned tensor would be allocated in\n",
      "            the pinned memory. Works only for CPU tensors. Default: ``False``.\n",
      "    \n",
      "    \n",
      "    Example::\n",
      "    \n",
      "        >>> torch.tensor([[0.1, 1.2], [2.2, 3.1], [4.9, 5.2]])\n",
      "        tensor([[ 0.1000,  1.2000],\n",
      "                [ 2.2000,  3.1000],\n",
      "                [ 4.9000,  5.2000]])\n",
      "    \n",
      "        >>> torch.tensor([0, 1])  # Type inference on data\n",
      "        tensor([ 0,  1])\n",
      "    \n",
      "        >>> torch.tensor([[0.11111, 0.222222, 0.3333333]],\n",
      "                         dtype=torch.float64,\n",
      "                         device=torch.device('cuda:0'))  # creates a torch.cuda.DoubleTensor\n",
      "        tensor([[ 0.1111,  0.2222,  0.3333]], dtype=torch.float64, device='cuda:0')\n",
      "    \n",
      "        >>> torch.tensor(3.14159)  # Create a scalar (zero-dimensional tensor)\n",
      "        tensor(3.1416)\n",
      "    \n",
      "        >>> torch.tensor([])  # Create an empty tensor (of size (0,))\n",
      "        tensor([])\n",
      "\n"
     ]
    }
   ],
   "source": [
    "import torch\n",
    "help(torch.tensor)"
   ]
  },
  {
   "cell_type": "markdown",
   "metadata": {
    "colab_type": "text",
    "id": "ahWJgnFlSFCp"
   },
   "source": [
    "#### Tensors\n",
    "\n",
    "Tensors are a fundamental concept of `pytorch`, as well as most other deep learning frameworks. A tensor  designates a collection of elements that are organized on a multi-dimensional grid. You may think of them as a generalization of vectors or matrices: The elements in a vector are organized along 1 dimension, whereas in a matrix they are organized along 2 dimensions.\n",
    "\n",
    "A typical application of tensors is to hold images. As an example, we can load an image of a dog into a `torch.tensor`:"
   ]
  },
  {
   "cell_type": "code",
   "execution_count": 7,
   "metadata": {
    "colab": {
     "base_uri": "https://localhost:8080/",
     "height": 458
    },
    "colab_type": "code",
    "id": "xSElnx7bSFCq",
    "outputId": "7be9a750-ef4d-4e31-a889-8c2d58e22fb2"
   },
   "outputs": [
    {
     "name": "stdout",
     "output_type": "stream",
     "text": [
      "The size of 'dog' is: torch.Size([3, 128, 128])\n"
     ]
    },
    {
     "data": {
      "text/plain": [
       "tensor([[[0.8588, 0.8588, 0.8588,  ..., 0.9490, 0.9373, 0.9294],\n",
       "         [0.8588, 0.8588, 0.8588,  ..., 0.9490, 0.9412, 0.9294],\n",
       "         [0.8588, 0.8588, 0.8627,  ..., 0.9529, 0.9451, 0.9333],\n",
       "         ...,\n",
       "         [0.5647, 0.5647, 0.5647,  ..., 0.8588, 0.8627, 0.8588],\n",
       "         [0.5843, 0.5804, 0.5686,  ..., 0.8353, 0.8392, 0.8392],\n",
       "         [0.6039, 0.5961, 0.5765,  ..., 0.8353, 0.8196, 0.8157]],\n",
       "\n",
       "        [[0.8549, 0.8549, 0.8549,  ..., 0.9098, 0.8980, 0.8902],\n",
       "         [0.8549, 0.8549, 0.8549,  ..., 0.9098, 0.9020, 0.8902],\n",
       "         [0.8549, 0.8549, 0.8549,  ..., 0.9137, 0.9059, 0.8941],\n",
       "         ...,\n",
       "         [0.6275, 0.6275, 0.6275,  ..., 0.8667, 0.8706, 0.8667],\n",
       "         [0.6471, 0.6431, 0.6314,  ..., 0.8431, 0.8471, 0.8471],\n",
       "         [0.6667, 0.6588, 0.6392,  ..., 0.8431, 0.8275, 0.8235]],\n",
       "\n",
       "        [[0.8745, 0.8745, 0.8745,  ..., 0.9059, 0.8941, 0.8863],\n",
       "         [0.8745, 0.8745, 0.8745,  ..., 0.9059, 0.8980, 0.8863],\n",
       "         [0.8745, 0.8745, 0.8745,  ..., 0.9098, 0.9020, 0.8902],\n",
       "         ...,\n",
       "         [0.6902, 0.6902, 0.6902,  ..., 0.9137, 0.9176, 0.9137],\n",
       "         [0.7098, 0.7059, 0.6941,  ..., 0.8902, 0.8941, 0.8941],\n",
       "         [0.7294, 0.7216, 0.7020,  ..., 0.8902, 0.8745, 0.8706]]])"
      ]
     },
     "execution_count": 7,
     "metadata": {},
     "output_type": "execute_result"
    }
   ],
   "source": [
    "from torchvision.transforms.functional import to_tensor, to_pil_image\n",
    "image_name = np.random.choice(dogs)\n",
    "dog = to_tensor(Image.open(image_name))\n",
    "print(\"The size of 'dog' is:\", dog.size())\n",
    "dog"
   ]
  },
  {
   "cell_type": "markdown",
   "metadata": {
    "colab_type": "text",
    "id": "OirHwfdzSFCw"
   },
   "source": [
    "It becomes interesting when we start applying mathematical operations to tensors. For example we can compute the average of a cat and a dog. Note that all common mathematical operators (`+`, `-` `*`, `**`, ...) are defined on tensors."
   ]
  },
  {
   "cell_type": "code",
   "execution_count": 8,
   "metadata": {
    "colab": {
     "base_uri": "https://localhost:8080/",
     "height": 299
    },
    "colab_type": "code",
    "id": "zBbEnTuwSFCw",
    "outputId": "6ef5cd36-2b2b-4f75-b953-7470f32042f4"
   },
   "outputs": [
    {
     "data": {
      "text/plain": [
       "Text(0.5, 1.0, 'A cat/dog average')"
      ]
     },
     "execution_count": 8,
     "metadata": {},
     "output_type": "execute_result"
    },
    {
     "data": {
      "image/png": "[encoded data removed]",
      "text/plain": [
       "<Figure size 432x288 with 1 Axes>"
      ]
     },
     "metadata": {
      "needs_background": "light"
     },
     "output_type": "display_data"
    }
   ],
   "source": [
    "image_name = np.random.choice(cats)\n",
    "cat = to_tensor(Image.open(image_name))\n",
    "plt.imshow(to_pil_image(0.5 * (cat + dog)))\n",
    "plt.title(\"A cat/dog average\")"
   ]
  },
  {
   "cell_type": "markdown",
   "metadata": {
    "colab_type": "text",
    "id": "NmIAqtkgSFC3"
   },
   "source": [
    "### Common tensor operations\n",
    "\n",
    "There are many operations available on tensors and most of them follow the names used in `numpy`. In general, you can expect there to be an operation for most tasks at hand, so make sure you check the `pytorch` documentation search engine before you start cooking up something on your own."
   ]
  },
  {
   "cell_type": "markdown",
   "metadata": {
    "colab_type": "text",
    "id": "fZapu3BgSFC7"
   },
   "source": [
    "#### Creation"
   ]
  },
  {
   "cell_type": "code",
   "execution_count": 9,
   "metadata": {
    "colab": {},
    "colab_type": "code",
    "id": "VmzxXVM6SFC9"
   },
   "outputs": [],
   "source": [
    "import torch\n",
    "ones = torch.ones(10, 10)\n",
    "zeros = torch.zeros(10, 10)\n",
    "rand = torch.randn(10, 10)"
   ]
  },
  {
   "cell_type": "markdown",
   "metadata": {
    "colab_type": "text",
    "id": "BamSgo6xSFDD"
   },
   "source": [
    "#### Mathematical operations"
   ]
  },
  {
   "cell_type": "code",
   "execution_count": 10,
   "metadata": {
    "colab": {},
    "colab_type": "code",
    "id": "7lN0AtqHSFDE"
   },
   "outputs": [],
   "source": [
    "rand1 = torch.add(ones, rand)\n",
    "p = torch.sigmoid(rand)\n",
    "exp = torch.exp(rand)"
   ]
  },
  {
   "cell_type": "markdown",
   "metadata": {
    "colab_type": "text",
    "id": "1JHwjgnXSFDI"
   },
   "source": [
    "#### Type conversions\n",
    "\n",
    "As with `numpy.ndarray`s, the elements in a `torch.tensor` can have different data types. You can convert between different data types using the `to` member function.\n"
   ]
  },
  {
   "cell_type": "code",
   "execution_count": 11,
   "metadata": {
    "colab": {
     "base_uri": "https://localhost:8080/",
     "height": 54
    },
    "colab_type": "code",
    "id": "A-G-gFG5SFDK",
    "outputId": "36005dbe-e612-49e1-941e-0ffabc5069bc"
   },
   "outputs": [
    {
     "name": "stdout",
     "output_type": "stream",
     "text": [
      "The data type of p: torch.float32\n",
      "The data type of p_short: torch.int16\n"
     ]
    }
   ],
   "source": [
    "print(\"The data type of p:\", p.dtype)\n",
    "p_short = p.to(torch.short)\n",
    "print(\"The data type of p_short:\", p_short.dtype)"
   ]
  },
  {
   "cell_type": "markdown",
   "metadata": {
    "colab_type": "text",
    "id": "qnTsb_u3SFDR"
   },
   "source": [
    "For ML tasks you typically want to use [single-precision floating point numbers](https://en.wikipedia.org/wiki/Single-precision_floating-point_format) (`torch.float32`). In general you will not have to worry too much about the data type, however, older versions of `pytorch` will throw errors when operations are performed on tensors with different numeric types."
   ]
  },
  {
   "cell_type": "code",
   "execution_count": 12,
   "metadata": {
    "colab": {
     "base_uri": "https://localhost:8080/",
     "height": 384
    },
    "colab_type": "code",
    "id": "Zu5ULxCbSFDS",
    "outputId": "7060c0b0-e422-4879-ae66-c1eb32a2d2cf"
   },
   "outputs": [
    {
     "data": {
      "text/plain": [
       "tensor([[0.2414, 0.8011, 0.7626, 0.7349, 0.7667, 0.4709, 0.7306, 0.5529, 0.6404,\n",
       "         0.4744],\n",
       "        [0.4994, 0.6854, 0.8192, 0.1967, 0.9224, 0.2875, 0.3473, 0.2099, 0.7040,\n",
       "         0.5706],\n",
       "        [0.8557, 0.1756, 0.7556, 0.8442, 0.6912, 0.5864, 0.2034, 0.6047, 0.6352,\n",
       "         0.9058],\n",
       "        [0.8466, 0.4557, 0.1476, 0.5287, 0.8154, 0.7352, 0.4846, 0.3412, 0.4205,\n",
       "         0.5515],\n",
       "        [0.1985, 0.6495, 0.5730, 0.2586, 0.4709, 0.5772, 0.7127, 0.8109, 0.7535,\n",
       "         0.9279],\n",
       "        [0.4998, 0.4013, 0.4971, 0.4444, 0.8564, 0.6299, 0.8990, 0.1998, 0.6386,\n",
       "         0.2725],\n",
       "        [0.4447, 0.6681, 0.7794, 0.1360, 0.3287, 0.8541, 0.6977, 0.7408, 0.6295,\n",
       "         0.2823],\n",
       "        [0.2544, 0.6639, 0.6499, 0.6864, 0.6718, 0.6711, 0.7163, 0.4479, 0.7792,\n",
       "         0.7086],\n",
       "        [0.8222, 0.8797, 0.4577, 0.3022, 0.7889, 0.3422, 0.5161, 0.5175, 0.2494,\n",
       "         0.5497],\n",
       "        [0.8382, 0.6900, 0.8678, 0.6200, 0.6524, 0.8088, 0.2639, 0.4118, 0.6195,\n",
       "         0.2328]])"
      ]
     },
     "execution_count": 12,
     "metadata": {},
     "output_type": "execute_result"
    }
   ],
   "source": [
    "p + p_short # Fails on older version of pytorch."
   ]
  },
  {
   "cell_type": "code",
   "execution_count": 13,
   "metadata": {
    "colab": {},
    "colab_type": "code",
    "id": "e_i4msIJSFDW"
   },
   "outputs": [],
   "source": [
    "p2 = p + p_short.float() # short for p_double.to(torch.float32)"
   ]
  },
  {
   "cell_type": "markdown",
   "metadata": {
    "colab_type": "text",
    "id": "AGD6sWC1SFDa"
   },
   "source": [
    "#### Conversion from and to numpy arrays\n",
    "\n",
    "numpy arrays can be converted directly to pytorch tensors using the `torch.tensor` function.\n",
    "\n",
    "Converting `pytorch` tensors to numpy arrays can be done using the `numpy()` member function. If `pytorch` tracks the gradient of a tensor, then you will also need to call the `detach()` member function."
   ]
  },
  {
   "cell_type": "code",
   "execution_count": 14,
   "metadata": {
    "colab": {
     "base_uri": "https://localhost:8080/",
     "height": 72
    },
    "colab_type": "code",
    "id": "q2Ne9nu1SFDd",
    "outputId": "435e0b64-d235-4a46-b1ce-38fa5fb33126"
   },
   "outputs": [
    {
     "name": "stdout",
     "output_type": "stream",
     "text": [
      "Type of t: <class 'numpy.ndarray'>\n",
      "Type of t_pytorch: <class 'torch.Tensor'>\n",
      "Type of t_pytorch.numpy(): <class 'numpy.ndarray'>\n"
     ]
    }
   ],
   "source": [
    "t_numpy = np.random.rand(2, 2)\n",
    "t = torch.tensor(t_numpy)\n",
    "print(\"Type of t:\", type(t_numpy))\n",
    "print(\"Type of t_pytorch:\", type(t))\n",
    "print(\"Type of t_pytorch.numpy():\", type(t.numpy()))"
   ]
  },
  {
   "cell_type": "code",
   "execution_count": 15,
   "metadata": {
    "colab": {
     "base_uri": "https://localhost:8080/",
     "height": 54
    },
    "colab_type": "code",
    "id": "tqAyGoaBSFDh",
    "outputId": "20ed7136-8b1c-480b-ad28-6d21293e40fd"
   },
   "outputs": [
    {
     "data": {
      "text/plain": [
       "array([[0.82161572, 0.88167956],\n",
       "       [0.89898896, 0.30687891]])"
      ]
     },
     "execution_count": 15,
     "metadata": {},
     "output_type": "execute_result"
    }
   ],
   "source": [
    "t.requires_grad = True\n",
    "#t.numpy() # Doesn't work\n",
    "t.detach().numpy() # Works"
   ]
  },
  {
   "cell_type": "markdown",
   "metadata": {
    "colab_type": "text",
    "id": "WPyfuK3HSFDn"
   },
   "source": [
    "### Automatic differentiation\n",
    "\n",
    "One of the core strengths of pytorch is that it let's you copute complex mathematical operations on tensors and compute their derivatives. Remember, that this is an important part of training neural networks: In order to minimize the loss function using gradient descent, it is of course required to first compute the gradients. Luckily, `pytorch`'s `autograd` module can take care of all the complicated calculations that are required to compute the gradients of neural networks.\n",
    "\n",
    "Computing gradients w.r.t to a given tensor involves the following steps:\n",
    "1. Create a tensor and set the `requires_grad` attribute to `True`,\n",
    "2. apply mathematical operations,\n",
    "3. call the `backward()` function of the result tensor to compute the gradients.\n",
    "\n",
    "> *Note:* Step 1 is not required for parameters of networks, whose gradients are computed by default when the model is in training mode.\n",
    "\n",
    "As an example, take the following operation:"
   ]
  },
  {
   "cell_type": "code",
   "execution_count": 16,
   "metadata": {
    "colab": {},
    "colab_type": "code",
    "id": "irLtyXAcSFDo"
   },
   "outputs": [],
   "source": [
    "x = torch.linspace(-4, 4, 101, requires_grad=True)\n",
    "y = torch.sigmoid(x)\n",
    "z = y.sum()\n",
    "z.backward()\n",
    "dzdx = x.grad"
   ]
  },
  {
   "cell_type": "code",
   "execution_count": 17,
   "metadata": {
    "colab": {
     "base_uri": "https://localhost:8080/",
     "height": 297
    },
    "colab_type": "code",
    "id": "57GbsfeqSFDu",
    "outputId": "7a6f548c-b7a8-475e-d097-512d63029472"
   },
   "outputs": [
    {
     "data": {
      "text/plain": [
       "Text(0, 0.5, 'y')"
      ]
     },
     "execution_count": 17,
     "metadata": {},
     "output_type": "execute_result"
    },
    {
     "data": {
      "image/png": "[encoded data removed]",
      "text/plain": [
       "<Figure size 432x288 with 1 Axes>"
      ]
     },
     "metadata": {
      "needs_background": "light"
     },
     "output_type": "display_data"
    }
   ],
   "source": [
    "f, ax = plt.subplots(1, 1)\n",
    "ax.plot(x.detach().numpy(),\n",
    "        y.detach().numpy(),\n",
    "        label = \"$\\sigma(x)$\")\n",
    "ax.plot(x.detach().numpy(),\n",
    "        dzdx.numpy(),\n",
    "        label = \"$?(x)$\")\n",
    "ax.legend()\n",
    "ax.set_xlabel(\"x\")\n",
    "ax.set_ylabel(\"y\")"
   ]
  },
  {
   "cell_type": "markdown",
   "metadata": {
    "colab_type": "text",
    "id": "Vo6cR2cUSFDy"
   },
   "source": [
    "### [Exercise 1: Derivatives of activation functions, 1 point] \n",
    "\n",
    "Write down analytical expressions for the function $\\sigma(x)$ and $?$ shown above."
   ]
  },
  {
   "cell_type": "code",
   "execution_count": 18,
   "metadata": {
    "colab": {
     "base_uri": "https://localhost:8080/",
     "height": 421
    },
    "colab_type": "code",
    "id": "fjJK4S1m6buJ",
    "outputId": "2c59c566-c113-4d8b-8643-5af17369b126"
   },
   "outputs": [
    {
     "name": "stdout",
     "output_type": "stream",
     "text": [
      "Help on built-in function sigmoid:\n",
      "\n",
      "sigmoid(...)\n",
      "    sigmoid(input, out=None) -> Tensor\n",
      "    \n",
      "    Returns a new tensor with the sigmoid of the elements of :attr:`input`.\n",
      "    \n",
      "    .. math::\n",
      "        \\text{out}_{i} = \\frac{1}{1 + e^{-\\text{input}_{i}}}\n",
      "    \n",
      "    Args:\n",
      "        input (Tensor): the input tensor.\n",
      "        out (Tensor, optional): the output tensor.\n",
      "    \n",
      "    Example::\n",
      "    \n",
      "        >>> a = torch.randn(4)\n",
      "        >>> a\n",
      "        tensor([ 0.9213,  1.0887, -0.8858, -1.7683])\n",
      "        >>> torch.sigmoid(a)\n",
      "        tensor([ 0.7153,  0.7481,  0.2920,  0.1458])\n",
      "\n"
     ]
    }
   ],
   "source": [
    "help(torch.sigmoid)"
   ]
  },
  {
   "cell_type": "markdown",
   "metadata": {
    "colab_type": "text",
    "id": "J-MOH4YP6gpy"
   },
   "source": [
    "### Exercise 1: Answer)\n",
    "\n",
    "$x$ is defined as a one-dimensional tensor with 101 elements spanning the interval $[-4,4]$ with ```requires_grad=True```. From the definition of the ```torch.sigmoid``` function, $\\sigma(x)$ is defined as \n",
    "$$ \\sigma(x) = \\frac{1}{1 + e^{-x}} $$\n",
    "where $x$ has had its associated gradients detached and been converted into a ```numpy``` array.\n",
    "\n",
    "The scalar variable $z$ is defined as \n",
    "$$z = \\sum_i^{101}\\sigma(x_i),\\quad x = \\{x_1,...,x_i,...,x_{401}\\}$$\n",
    "The operation ```z.backward()``` then calculates $\\frac{dz}{dx}$ for every element in $x$, since the tensor $x$ is defined with the property ```requires_grad=True```, and stores them in ``` x.grad```.\n",
    "\n",
    "As $?$ shows the plot of ``` dzdx=x.grad ``` with respect to $x$ (converted to ´´´numpy´´´ arrays), the analytical expression for $?$ is \n",
    "$$?(x) = \\frac{dz}{dx} = \\frac{d}{dx}\\left(\\sum_i \\sigma(x_i)\\right) = -\\frac{-e^{-x}}{(1+e^{-x})^2}$$\n",
    "since that for the derivation with respect to the vector $x$ we have that $\\frac{d}{dx_i}\\sigma(x_j)=0$ for $i\\neq j$. Finally, the analytical expression for $?(x)$ is given by\n",
    "$$?(x) = \\frac{e^{-x}}{(1+e^{-x})^2}$$\n",
    "which matches the plot of ```dzdx=x.grad``` as seen in the cell below.\n"
   ]
  },
  {
   "cell_type": "code",
   "execution_count": 19,
   "metadata": {
    "colab": {
     "base_uri": "https://localhost:8080/",
     "height": 297
    },
    "colab_type": "code",
    "id": "KhA9ba6D6nAF",
    "outputId": "92f76779-dff0-43e3-8452-4df29c29fa03"
   },
   "outputs": [
    {
     "data": {
      "text/plain": [
       "Text(0, 0.5, 'y')"
      ]
     },
     "execution_count": 19,
     "metadata": {},
     "output_type": "execute_result"
    },
    {
     "data": {
      "image/png": "[encoded data removed]",
      "text/plain": [
       "<Figure size 432x288 with 1 Axes>"
      ]
     },
     "metadata": {
      "needs_background": "light"
     },
     "output_type": "display_data"
    }
   ],
   "source": [
    "xs = np.linspace(-4,4,101)\n",
    "q = np.exp(-xs)/(1+np.exp(-xs))**2\n",
    "f, ax = plt.subplots(1, 1)\n",
    "ax.plot(x.detach().numpy(),\n",
    "        y.detach().numpy(),\n",
    "        label = \"$\\sigma(x)$\")\n",
    "ax.plot(x.detach().numpy(),\n",
    "        dzdx.numpy(),\n",
    "        label = \"$?(x)$\")\n",
    "ax.plot(xs,q, '--k', label = \"Analytical ?(x)\")\n",
    "ax.legend()\n",
    "ax.set_xlabel(\"x\")\n",
    "ax.set_ylabel(\"y\")"
   ]
  },
  {
   "cell_type": "markdown",
   "metadata": {
    "colab_type": "text",
    "id": "AycUJ1qUSFDz"
   },
   "source": [
    "### GPU acceleration\n",
    "\n",
    "Training complex networks is a computationally demanding task. To shorten training times, caluclations are typically performed on specialized hardware that was traditionally used to render 3D graphics on computers, so called graphic processing units (GPUs) or graphic cards . GPUs are in general more efficient in performing  highly-parallel computational tasks than CPUs, which are the chips that perform all 'standard' calculations in a PC. In `pytorch`, all oprations on tensors can be performed on a GPU using NVIDIA's CUDA computing platforms (https://en.wikipedia.org/wiki/CUDA).\n",
    "\n",
    "The different processors that can be used for calculations, i.e. CPU or GPU, are represented in `pytorch` as devices. Each tensor has an associated device on which its data is located.\n",
    "The default device is represented by `torch.device(\"cpu\")`. By default, all calculations are executed on the CPU.  In order to be able to perform calculations on a tensor, you need to move its data to the GPU's memory."
   ]
  },
  {
   "cell_type": "code",
   "execution_count": 20,
   "metadata": {
    "colab": {
     "base_uri": "https://localhost:8080/",
     "height": 34
    },
    "colab_type": "code",
    "id": "W8blGZ06SFDz",
    "outputId": "b1e9e177-ea8a-40a4-fd0d-83a26b80e47e"
   },
   "outputs": [
    {
     "name": "stdout",
     "output_type": "stream",
     "text": [
      "False\n"
     ]
    }
   ],
   "source": [
    "# First check if CUDA is available.\n",
    "print(torch.cuda.is_available())\n",
    "cuda = torch.device(\"cuda\")\n",
    "cpu = torch.device(\"cpu\")"
   ]
  },
  {
   "cell_type": "markdown",
   "metadata": {
    "colab_type": "text",
    "id": "PKUwd3R7SFD5"
   },
   "source": [
    "Below, we will perform a quick demonstration of how much faster matrix multiplication becomes when executed on a  GPU."
   ]
  },
  {
   "cell_type": "code",
   "execution_count": 21,
   "metadata": {
    "colab": {
     "base_uri": "https://localhost:8080/",
     "height": 293
    },
    "colab_type": "code",
    "id": "PYhKYOncSFD6",
    "outputId": "27c1b993-a25b-4a7b-e20c-284eb7c265e2"
   },
   "outputs": [
    {
     "name": "stdout",
     "output_type": "stream",
     "text": [
      "CPU times: user 97.6 ms, sys: 14.1 ms, total: 112 ms\n",
      "Wall time: 409 ms\n"
     ]
    },
    {
     "data": {
      "text/plain": [
       "tensor([[6.1149e+23, 5.9410e+23, 5.9310e+23,  ..., 6.0034e+23, 5.8470e+23,\n",
       "         6.1494e+23],\n",
       "        [6.0712e+23, 5.8985e+23, 5.8885e+23,  ..., 5.9605e+23, 5.8052e+23,\n",
       "         6.1054e+23],\n",
       "        [6.0778e+23, 5.9049e+23, 5.8949e+23,  ..., 5.9670e+23, 5.8115e+23,\n",
       "         6.1121e+23],\n",
       "        ...,\n",
       "        [6.0432e+23, 5.8712e+23, 5.8614e+23,  ..., 5.9330e+23, 5.7784e+23,\n",
       "         6.0772e+23],\n",
       "        [5.8629e+23, 5.6961e+23, 5.6865e+23,  ..., 5.7560e+23, 5.6061e+23,\n",
       "         5.8960e+23],\n",
       "        [6.1259e+23, 5.9516e+23, 5.9416e+23,  ..., 6.0142e+23, 5.8576e+23,\n",
       "         6.1605e+23]])"
      ]
     },
     "execution_count": 21,
     "metadata": {},
     "output_type": "execute_result"
    }
   ],
   "source": [
    "W = torch.rand(512, 512)\n",
    "def matmul_cpu():\n",
    "    result = W\n",
    "    for i in range(10):\n",
    "        result = torch.matmul(W, result)\n",
    "    return result\n",
    "        \n",
    "%time matmul_cpu()"
   ]
  },
  {
   "cell_type": "code",
   "execution_count": 22,
   "metadata": {
    "colab": {
     "base_uri": "https://localhost:8080/",
     "height": 293
    },
    "colab_type": "code",
    "id": "5Q8pnxJVSFD-",
    "outputId": "df75e1b3-5e8e-4697-b146-f16d8d6b2f3e"
   },
   "outputs": [
    {
     "ename": "RuntimeError",
     "evalue": "cuda runtime error (100) : no CUDA-capable device is detected at /pytorch/aten/src/THC/THCGeneral.cpp:47",
     "output_type": "error",
     "traceback": [
      "\u001b[0;31m---------------------------------------------------------------------------\u001b[0m",
      "\u001b[0;31mRuntimeError\u001b[0m                              Traceback (most recent call last)",
      "\u001b[0;32m<ipython-input-22-218c6abd1093>\u001b[0m in \u001b[0;36m<module>\u001b[0;34m\u001b[0m\n\u001b[0;32m----> 1\u001b[0;31m \u001b[0mW_cuda\u001b[0m \u001b[0;34m=\u001b[0m \u001b[0mW\u001b[0m\u001b[0;34m.\u001b[0m\u001b[0mto\u001b[0m\u001b[0;34m(\u001b[0m\u001b[0mcuda\u001b[0m\u001b[0;34m)\u001b[0m\u001b[0;34m\u001b[0m\u001b[0;34m\u001b[0m\u001b[0m\n\u001b[0m\u001b[1;32m      2\u001b[0m \u001b[0;34m\u001b[0m\u001b[0m\n\u001b[1;32m      3\u001b[0m \u001b[0;32mdef\u001b[0m \u001b[0mmatmul_gpu\u001b[0m\u001b[0;34m(\u001b[0m\u001b[0;34m)\u001b[0m\u001b[0;34m:\u001b[0m\u001b[0;34m\u001b[0m\u001b[0;34m\u001b[0m\u001b[0m\n\u001b[1;32m      4\u001b[0m     \u001b[0mresult\u001b[0m \u001b[0;34m=\u001b[0m \u001b[0mW_cuda\u001b[0m\u001b[0;34m\u001b[0m\u001b[0;34m\u001b[0m\u001b[0m\n\u001b[1;32m      5\u001b[0m     \u001b[0;32mfor\u001b[0m \u001b[0mi\u001b[0m \u001b[0;32min\u001b[0m \u001b[0mrange\u001b[0m\u001b[0;34m(\u001b[0m\u001b[0;36m10\u001b[0m\u001b[0;34m)\u001b[0m\u001b[0;34m:\u001b[0m\u001b[0;34m\u001b[0m\u001b[0;34m\u001b[0m\u001b[0m\n",
      "\u001b[0;32m~/.local/lib/python3.6/site-packages/torch/cuda/__init__.py\u001b[0m in \u001b[0;36m_lazy_init\u001b[0;34m()\u001b[0m\n\u001b[1;32m    151\u001b[0m             raise AssertionError(\n\u001b[1;32m    152\u001b[0m                 \"libcudart functions unavailable. It looks like you have a broken build?\")\n\u001b[0;32m--> 153\u001b[0;31m         \u001b[0mtorch\u001b[0m\u001b[0;34m.\u001b[0m\u001b[0m_C\u001b[0m\u001b[0;34m.\u001b[0m\u001b[0m_cuda_init\u001b[0m\u001b[0;34m(\u001b[0m\u001b[0;34m)\u001b[0m\u001b[0;34m\u001b[0m\u001b[0;34m\u001b[0m\u001b[0m\n\u001b[0m\u001b[1;32m    154\u001b[0m         \u001b[0;31m# Some of the queued calls may reentrantly call _lazy_init();\u001b[0m\u001b[0;34m\u001b[0m\u001b[0;34m\u001b[0m\u001b[0;34m\u001b[0m\u001b[0m\n\u001b[1;32m    155\u001b[0m         \u001b[0;31m# we need to just return without initializing in that case.\u001b[0m\u001b[0;34m\u001b[0m\u001b[0;34m\u001b[0m\u001b[0;34m\u001b[0m\u001b[0m\n",
      "\u001b[0;31mRuntimeError\u001b[0m: cuda runtime error (100) : no CUDA-capable device is detected at /pytorch/aten/src/THC/THCGeneral.cpp:47"
     ]
    }
   ],
   "source": [
    "W_cuda = W.to(cuda)\n",
    "\n",
    "def matmul_gpu():\n",
    "    result = W_cuda\n",
    "    for i in range(10):\n",
    "        result = torch.matmul(W_cuda, result)\n",
    "    return result\n",
    "        \n",
    "matmul_gpu() # First time using GPU can incur some overhead.\n",
    "%time matmul_gpu()"
   ]
  },
  {
   "cell_type": "markdown",
   "metadata": {
    "colab_type": "text",
    "id": "rhfl9n6LSFEE"
   },
   "source": [
    "The `%time` command displays CPU and Wall time for the execution of the two functions. The CPU time is split up in `user` time, which is the time spent executing only your code, and `sys` time, which is the time spent executing system kernel code required for example to load data from disk. Note that the CPU time is computed per core, so when your code runs on multiple cores the resulting CPU time is the sum of the time each core spends computing.\n",
    "\n",
    "The wall time shows the total time that it took to execute the function. Since CPU time is calculated per core, the wall time can actually be lower than the CPU time for code that is executed on multiple CPUs in parallel.\n",
    "\n",
    "To compare the absolute execution time for the two functions it is therefore most meaningful to compare the displayed wall times. As you should see from them, calculating the matrix power on the GPU is substantially faster than calculating it on the CPU."
   ]
  },
  {
   "cell_type": "markdown",
   "metadata": {
    "colab_type": "text",
    "id": "e0b1rtheSFEE"
   },
   "source": [
    "## Loading the data\n",
    "\n",
    "To train a network on the `catsndogs` dataset, we need to load the images into tensors. The `catsndogs.training` module has an attribute `folder`, which points to the root folder containing the training data. The root folder contains a `cat` and a `dog` folder which holds the images of cats and dogs, respectively.\n",
    "\n",
    "\n",
    "Using the `torchvision.datasets.ImageFolder` class, data that is organized in a folder structure like this can be turned directly into a dataset for training ML algorithms. The dataset provides access to the images as input and as an integer representations of the class labels as output."
   ]
  },
  {
   "cell_type": "code",
   "execution_count": null,
   "metadata": {
    "colab": {},
    "colab_type": "code",
    "id": "B1L5rhy_SFEF"
   },
   "outputs": [],
   "source": [
    "from catsndogs.training import folder\n",
    "from torchvision.datasets import ImageFolder\n",
    "\n",
    "images = ImageFolder(folder)"
   ]
  },
  {
   "cell_type": "markdown",
   "metadata": {
    "colab_type": "text",
    "id": "ElXrcBRySFEJ"
   },
   "source": [
    "You can load a sample from the training data by indexing the `images` object, which will return a tuple `(image, label)` containing the loaded image and corresponding label."
   ]
  },
  {
   "cell_type": "code",
   "execution_count": null,
   "metadata": {
    "colab": {
     "base_uri": "https://localhost:8080/",
     "height": 305
    },
    "colab_type": "code",
    "id": "30O5-nDwSFEK",
    "outputId": "ec80bfbc-3d1c-43b0-e1c9-fcb540a268bb"
   },
   "outputs": [],
   "source": [
    "image, label = images[0]\n",
    "plt.imshow(image)\n",
    "print(\"The type of image is:\", type(image))\n",
    "print(\"The label is:\", label)"
   ]
  },
  {
   "cell_type": "markdown",
   "metadata": {
    "colab_type": "text",
    "id": "XV3hYyGJSFEP"
   },
   "source": [
    "However, as the code above shows, the type of the loaded image is a `PIL` image and not a tensor. To automatically transform the loaded image into a tensor, you can make use of the `transformation` parameter of the `ImageFolder` class.\n",
    "\n",
    "The cell below adds a composition of two transforms to the dataset. The two transforms are applied sequentially to the image object that would otherwise be returned from the dataset. The first transform turns the image into a torch tensor and the second transform normalizes the image values so that they lie in the range $[-1, 1]$.\n",
    "\n",
    "> Note: Input data that is not centered around zero can cause convergence problems during training, so it is usually a good idea to normalize input data to a range centered around 0."
   ]
  },
  {
   "cell_type": "code",
   "execution_count": null,
   "metadata": {
    "colab": {
     "base_uri": "https://localhost:8080/",
     "height": 35
    },
    "colab_type": "code",
    "id": "s44XbBBoSFEP",
    "outputId": "8e18341b-ecd0-4944-b85a-a356434a8fb8"
   },
   "outputs": [],
   "source": [
    "from torchvision.transforms import Compose, ToTensor, Normalize\n",
    "\n",
    "transform = Compose([ToTensor(),\n",
    "                     Normalize([0.5, 0.5, 0.5], [0.5, 0.5, 0.5])])\n",
    "images = ImageFolder(folder, transform=transform)\n",
    "image, label = images[0]\n",
    "print(\"Type of image is now:\", type(image))"
   ]
  },
  {
   "cell_type": "code",
   "execution_count": null,
   "metadata": {
    "colab": {},
    "colab_type": "code",
    "id": "t0Zg8fsrSFET"
   },
   "outputs": [],
   "source": [
    "# This function inverts the transformation of the input images.\n",
    "def to_image(tensor):\n",
    "    tensor = 0.5 * (tensor + 1.0)\n",
    "    return to_pil_image(tensor)"
   ]
  },
  {
   "cell_type": "markdown",
   "metadata": {
    "colab_type": "text",
    "id": "O2e8G5evSFEY"
   },
   "source": [
    "For the training, we further split the data into training and validation set:"
   ]
  },
  {
   "cell_type": "code",
   "execution_count": null,
   "metadata": {
    "colab": {},
    "colab_type": "code",
    "id": "gEy58BAjSFEZ"
   },
   "outputs": [],
   "source": [
    "n_train = int(0.9 * len(images))\n",
    "n_val = len(images) - n_train\n",
    "training_data, validation_data = torch.utils.data.random_split(images, (n_train, n_val))"
   ]
  },
  {
   "cell_type": "markdown",
   "metadata": {
    "colab_type": "text",
    "id": "9Q-9y18fSFEd"
   },
   "source": [
    "## [Exercise 2: Training a fully-connected network, 5 points]\n",
    "## Defining a neural network model\n",
    "\n",
    "Neural networks in `pytorch` are represented using the [`torch.nn.Module`](https://pytorch.org/docs/stable/nn.html#torch.nn.Module) class. The typical way to define a neural network model is to define a new class that inherits from the `Module` class.\n",
    "\n",
    "### 2, a) (2 points)\n",
    "\n",
    "Inspect the code given below and, using the documentation of the [`torch.nn`](https://pytorch.org/docs/stable/nn.html#torch.nn.Module) module, answer the following questions:\n",
    "- What is the architecture of instances of the `FullyConnected` class?\n",
    "- What activations functions are applied in the hidden layers?\n",
    "- What activation function is used for the output?\n",
    "- How are the parameters of the network initialized? Why is this important?"
   ]
  },
  {
   "cell_type": "code",
   "execution_count": null,
   "metadata": {
    "colab": {},
    "colab_type": "code",
    "id": "w3T4rHmQSFEd"
   },
   "outputs": [],
   "source": [
    "from torch import nn\n",
    "\n",
    "class FullyConnected(nn.Module):\n",
    "    \"\"\"\n",
    "    Usually, this docstring should contain useful information about this\n",
    "    class but this would make the exercise too easy.\n",
    "    \"\"\"\n",
    "    def __init__(self,\n",
    "                 input_features,\n",
    "                 width):\n",
    "        \"\"\"\n",
    "        Create a new mysterious network.\n",
    "        \"\"\"\n",
    "        super().__init__()\n",
    "        self.input_features = input_features\n",
    "        self.fc_1 = nn.Linear(input_features, width)\n",
    "        self.fc_2 = nn.Linear(width, width)\n",
    "        self.fc_3 = nn.Linear(width, width)\n",
    "        self.fc_4 = nn.Linear(width, 1)\n",
    "        \n",
    "    def forward(self, x):\n",
    "        \"\"\"\n",
    "        The forward method required by nn.Module base class.\n",
    "        \"\"\"\n",
    "        x = x.flatten(1, -1)\n",
    "        x = self.fc_1(x)\n",
    "        x = torch.relu(x)\n",
    "        x = self.fc_2(x)\n",
    "        x = torch.relu(x)\n",
    "        x = self.fc_3(x)\n",
    "        x = torch.relu(x)\n",
    "        x = self.fc_4(x)\n",
    "        return x\n",
    "    "
   ]
  },
  {
   "cell_type": "markdown",
   "metadata": {
    "colab_type": "text",
    "id": "n6Mwif_3dd5I"
   },
   "source": [
    "### 2,a) Answer:\n",
    "\n",
    "- What is the architecture of instances of the `FullyConnected` class?\n",
    "\n",
    "The FullyConnected model takes an input of size `input_features` and consists of three hidden layers as well as an output layer. The dimensions of the hidden layers are specified by the parameter `width`. When constructing the model, four nn.Linear modules are instantiated, with input-output dimensions (`input_features`,`width`), (`width`,`width`), (`width`,`width`) and (`width`,`1`) respectively. Its architecture consists of \n",
    "\n",
    "1) a flattening step, reshaping the input samples to contiguous arrays of size `input_features`\n",
    "2) a fully connected layer `fc_1` applying a linear transformation to the incoming data with size `input_features` to output size `width`\n",
    "3) applying a rectified linear unit (ReLU) to the output of `fc_1`\n",
    "4) a fully connected layer `fc_2` applying a linear transformation to the incoming data with size `width` to output size `width`\n",
    "5) applying a ReLU to the output of `fc_2`\n",
    "6) a fully connected layer `fc_3` applying a linear transformation to the incoming data with size `width` to output size `width`\n",
    "7) applying a ReLU to the output of `fc_3`\n",
    "8) a fully connected layer `fc_4` applying a linear transformation to the incoming data with size `width` to output size 1\n",
    "Finally, the networks returns the output of `fc_4` where each output sample has size 1. \n",
    "\n",
    "Note that the ''size'' here refers to the size of each sample. For example, if the input is 10 samples, each with 2 input features, and `width` is 4, the the input dimensions to the first linear fully connected layer `fc_1` will be (10,2) and the output dimensions of `fc_1` will be (10,4).\n",
    "\n",
    "\n",
    "- What activations functions are applied in the hidden layers?\n",
    "\n",
    "All the hidden layers use rectified linear units (ReLU) as activation functions.\n",
    "\n",
    "- What activation function is used for the output?\n",
    "\n",
    "No activation function is used for the output, as the output is only the linear transformation of the last hidden layer (after ReLU) with output shape 1 (output from last hidden layer, multiplied by the last layer of weights in `fc_4` to get output size 1). Another interpretation is that a linear activation function with a coefficient set to unity is used for the output (simply returning the activation as it is, the output of the layer being proportional to the input of the layer). This is often caused a linear output layer.\n",
    "\n",
    "- How are the parameters of the network initialized? Why is this important?\n",
    "\n",
    "From the source code for the `nn.Linear` module (used for all layers in this model), the weights and trainable biases (which are enabled by default) are initialized as \n",
    "\n",
    "$$\\mathcal{U}(-\\sqrt{k}, \\sqrt{k}), \\quad k = \\frac{1}{N_\\text{in_features}}$$\n",
    "\n",
    "where $N_\\text{in_features}$ is the number of input features to that specific layer and $\\mathcal{U}$ is the uniform distribution. It is important to initialize the weights properly to avoid outputs from layers to vanish or become exceedingly large, which could cause slow convergence in the backward propagation of loss gradients. It should however be noted that this initialization (uniform distribution on $[-1,1]$ scaled by $\\sqrt{k}$) has been found to not always work very well in applications of neural networks.\n",
    "\n"
   ]
  },
  {
   "cell_type": "markdown",
   "metadata": {
    "colab_type": "text",
    "id": "8IkEHmbTSFEh"
   },
   "source": [
    "## The training loop\n",
    "\n",
    "In the cell below you find code for a typical training loop in `pytorch`. \n",
    "\n",
    "### 2, b) (1 point)\n",
    "\n",
    "Look at the function below. Most of the actual training functionality is abstracted away in the arguments provided to the function. For each of the arguments, describe what tasks the corresponding object has to perform so that this method can be used to train a neural network."
   ]
  },
  {
   "cell_type": "code",
   "execution_count": null,
   "metadata": {
    "colab": {},
    "colab_type": "code",
    "id": "vCv3WwGXSFEi"
   },
   "outputs": [],
   "source": [
    "def train_epoch(training_loader,\n",
    "                validation_loader,\n",
    "                model,\n",
    "                loss,\n",
    "                optimizer,\n",
    "                device):\n",
    "    \"\"\"\n",
    "    Again, this should be a useful docstring, but that would\n",
    "    give away the answer for the exercise.\n",
    "    \"\"\"\n",
    "    \n",
    "    model.train()\n",
    "    model.to(device)\n",
    "    \n",
    "    training_loss = 0.0\n",
    "    n = len(training_loader)\n",
    "    \n",
    "    for i, (x, y) in enumerate(training_loader):\n",
    "        \n",
    "        # Set gradients to zero.\n",
    "        optimizer.zero_grad()\n",
    "        \n",
    "        # Move input to device\n",
    "        x = x.to(device)\n",
    "        y = y.to(device)\n",
    "        \n",
    "        # Predict output, compute loss, perform optimizer step.\n",
    "        y_pred = model(x)\n",
    "        l = loss(y_pred, y.view(-1, 1).float())\n",
    "        l.backward()\n",
    "        optimizer.step()\n",
    "        \n",
    "        training_loss += l.item()\n",
    "        print(\"Batch ({} / {}): Loss {:.2f}\".format(i, n, l.item()), end=\"\\r\")\n",
    "        \n",
    "    training_loss /= n\n",
    "        \n",
    "    model.eval()\n",
    "    validation_loss = 0.0\n",
    "    n = len(validation_loader)\n",
    "    \n",
    "    for i, (x, y) in enumerate(validation_loader):\n",
    "        # Move input to device\n",
    "        x = x.to(device)\n",
    "        y = y.to(device)\n",
    "        \n",
    "        # Predict output, compute loss, perform optimizer step.\n",
    "        y_pred = model(x)\n",
    "        l = loss(y_pred, y.view(-1, 1).float())\n",
    "        \n",
    "        validation_loss += l.item()\n",
    "    validation_loss /= n\n",
    "    \n",
    "    model.to(torch.device(\"cpu\"))\n",
    "    \n",
    "    return (training_loss, validation_loss)"
   ]
  },
  {
   "cell_type": "markdown",
   "metadata": {
    "colab_type": "text",
    "id": "akEeu9_e9ja_"
   },
   "source": [
    "### 2,b) Answer:\n",
    "\n",
    "  - `training_loader`: An object of batched *training* input data which is iterated over in the *training* loop. Contains pairs of inputs and true outputs `(x,y)`. \n",
    "  - `validation_loader`: An object of batched *validation* input data which is iterated over in the *validation* loop. Contains pairs of inputs and true outputs `(x,y)`.\n",
    "  - `model`: The neural network model used for training. It takes inputs `x` and makes predictions `y`, as seen in the previous exercise. This is the model to be used to make predictions in the training and validation loops.\n",
    "  - `loss`: The loss function of choice that should be minimized in the training. Used as an estimate of how well the model predicts the data.\n",
    "  - `optimizer`: The optimization algorithm (method) used to advance the trainable parameters in each iteration. An example could be stochastic gradient descent, `SGD`.\n",
    "  - `device`: The object which represents the device on which the `torch.Tensor` objects in the model (and the model itself) are or will be allocated. The calculations are run on the torch device.\n",
    "\n"
   ]
  },
  {
   "cell_type": "markdown",
   "metadata": {
    "colab_type": "text",
    "id": "Ek55cA6kSFEm"
   },
   "source": [
    "## The optimizer object\n",
    "\n",
    "In the code above the optimization method was hidden in the `optimizer` object. To understand how to write a suitable optimizer, you first need to understand a bit more about the role of `Module` objects in `pytorch`. The `torch.nn.Module` class is the base class for all neural networks and the components that make up neural networks. Module objects typically have trainable parameters. These trainable parameters of a module can be accessed via its `parameters()` member function. When a module contains attributes that are themselves `Module` instances, then  the `parameters()` function of the containing module will automatically list the trainable parameters of its `Module` attributes.\n",
    "\n",
    "In order to  train a network, the optimizer needs to be aware of the module's parameters. In `pytorch` an optimizer object therefore always needs to be instantiated with a list of parameters that should be trained. In addition to that, an optimizer typically provides a function to set the gradients of the module parameters to zero. This is because gradients in pytorch are accumulated between consecutive calls to the `backward()` function.\n",
    "This makes it necessary to set the gradients to zero between to training iterations.\n",
    "\n",
    "### 2, c)  (0.5 points)\n",
    "\n",
    "Complete the code below so that the `step` method of the `SGD` class performs gradient descent on the provided list of parameters.\n",
    "\n",
    "> **Hint 1:** The `parameters()` member function returns a list of tensors representing the weight matrices and bias vectors in a network. Given a tensor `p`, you can access its gradients using the `p.grad` attribute.\n",
    "\n",
    "> **Hint 2:** Because of the way `pytorch`'s autograd function works, changing the  value of a parameter `p` has to be done using its `p.data` attribute:\n",
    "\n",
    "```\n",
    "p.data = ...\n",
    "```"
   ]
  },
  {
   "cell_type": "code",
   "execution_count": null,
   "metadata": {
    "colab": {},
    "colab_type": "code",
    "id": "o2VKltEsSFEn"
   },
   "outputs": [],
   "source": [
    "class GradientDescent():\n",
    "    \"\"\"\n",
    "    A gradient descent optimizer.\n",
    "    \"\"\"\n",
    "    def __init__(self,\n",
    "                 parameters,\n",
    "                 learning_rate):\n",
    "        \"\"\"\n",
    "        Create a gradient descent optimizer.\n",
    "        \n",
    "        Arguments:\n",
    "            parameters: Iterable providing the parameters to optimize.\n",
    "            learning_rate: The learning rate to use for optimization.\n",
    "        \"\"\"\n",
    "        self.parameters = list(parameters)\n",
    "        self.learning_rate = learning_rate\n",
    "        \n",
    "    def zero_grad(self):\n",
    "        for p in self.parameters:\n",
    "            if not p.grad is None:\n",
    "                p.grad.zero_()\n",
    "        \n",
    "    def step(self):\n",
    "        \"\"\"\n",
    "        Perform a gradient descent step on parameters associated to this optimizer.\n",
    "        \"\"\"\n",
    "        for p in self.parameters:\n",
    "            p.data -= self.learning_rate*p.grad # Gradient descent step              # Edited, used to be `pass`"
   ]
  },
  {
   "cell_type": "markdown",
   "metadata": {
    "colab_type": "text",
    "id": "3ot3wmOVSFEq"
   },
   "source": [
    "## Training the network\n",
    "\n",
    "With the optimizer, the model and the training loop in place we are close to being able to start training the network, however a few details remain to be sorted out.\n",
    "\n",
    "The `training_data` and `validation_data` object defined above can be used to iterate over the data, but only on a per sample basis. For the training a neural network, however, we typically want to iterate through the data in batches. To take care of this , `pytorch` provides the `DataLoader` class, which can be used to batch and shuffle existing data:"
   ]
  },
  {
   "cell_type": "code",
   "execution_count": null,
   "metadata": {
    "colab": {},
    "colab_type": "code",
    "id": "7MtG8o--SFEq"
   },
   "outputs": [],
   "source": [
    "from  torch.utils.data import DataLoader\n",
    "training_loader = DataLoader(training_data, batch_size=32, shuffle=True)\n",
    "validation_loader = DataLoader(validation_data, batch_size=32, shuffle=True)"
   ]
  },
  {
   "cell_type": "markdown",
   "metadata": {
    "colab_type": "text",
    "id": "h2nrngXwSFEu"
   },
   "source": [
    "Next, we need to choose a suitable training loss to minimize.\n",
    "\n",
    "### 2, d) (0.5 points)\n",
    "\n",
    "Choose a suitable loss function from the [`torch.nn`](https://pytorch.org/docs/stable/nn.html) module and assign an instance of it to the loss variable in the code cell below\n",
    "\n",
    "> **Hint:** Note that in the `train_epoch` function defined above loss function is applied **directly** to the output of the network. In your choice of the loss function you thus need to consider the output activation of the network."
   ]
  },
  {
   "cell_type": "markdown",
   "metadata": {
    "colab_type": "text",
    "id": "DC58sQhE9uND"
   },
   "source": [
    "### 2,d) Answer:\n",
    "\n",
    "Here, since no activation function is used for the output (linear output layer)in the network, we predict logits for the two classes. For this reason, we choose a loss function which combines the activation function used to map the outputs of the final layer to probabilities (sigmoid) with the loss function. Because of this, we choose the loss function `BCEWithLogitsLoss ` (sigmoid layer and binary cross entropy loss combined), since we have binary classification (1 neuron in the output layer) and as such want a sigmoid activation function for the classification."
   ]
  },
  {
   "cell_type": "code",
   "execution_count": null,
   "metadata": {
    "colab": {},
    "colab_type": "code",
    "id": "gtu6dIH2SFEv"
   },
   "outputs": [],
   "source": [
    "loss = nn.BCEWithLogitsLoss()"
   ]
  },
  {
   "cell_type": "markdown",
   "metadata": {
    "colab_type": "text",
    "id": "f6fJvB0sSFE0"
   },
   "source": [
    "Finally, we choose the device to run the training on. If available, you should use a GPU because it will be substantially faster.\n"
   ]
  },
  {
   "cell_type": "code",
   "execution_count": null,
   "metadata": {
    "colab": {},
    "colab_type": "code",
    "id": "LkrSLu0gSFE1"
   },
   "outputs": [],
   "source": [
    "if torch.cuda.is_available():\n",
    "    device = cuda\n",
    "else:\n",
    "    device = cpu"
   ]
  },
  {
   "cell_type": "markdown",
   "metadata": {
    "colab_type": "text",
    "id": "nzG2HSWcSFE5"
   },
   "source": [
    "### 1, e) (1 point)\n",
    "\n",
    "Train the neural network for a least 10 epochs, then reduce the learning rate and continue training for at least another ten epochs. Plot the resulting training and validation losses. Was the training successful?\n"
   ]
  },
  {
   "cell_type": "markdown",
   "metadata": {
    "colab_type": "text",
    "id": "sSJVWn0m90TT"
   },
   "source": [
    "### 1, e) Answer:\n",
    "\n",
    "In the code cell below, the network is instantiated, an optimizer is assigned to the `optimizer` variable, and the model is trained. Here we choose the above defined `GradientDescent` optimization method.\n",
    "\n",
    "The number of input features is determined by the dimensionality of the input images: three color channels, 128x128 pixel images $\\implies$ `input_features` $ = (3\\cdot128\\cdot128)$.\n",
    "\n",
    "The width argument can be chosen as a design parameter. Here, we choose `width`$=128$ for the hidden layers. "
   ]
  },
  {
   "cell_type": "code",
   "execution_count": null,
   "metadata": {
    "colab": {
     "base_uri": "https://localhost:8080/",
     "height": 54
    },
    "colab_type": "code",
    "id": "h7f5R7jO92St",
    "outputId": "7c847b61-83c8-436c-f82b-88baf9df5aec"
   },
   "outputs": [],
   "source": [
    "# See the dimensionality of the data\n",
    "x_0, y_0 = next(iter(training_data))\n",
    "x_1, y_1 = next(iter(training_loader))\n",
    "print(\"Shape of x_0:\", x_0.size())\n",
    "print(\"Shape of x_1:\", x_1.size())\n"
   ]
  },
  {
   "cell_type": "code",
   "execution_count": null,
   "metadata": {
    "colab": {
     "base_uri": "https://localhost:8080/",
     "height": 476
    },
    "colab_type": "code",
    "id": "_e5Uz3W493BI",
    "outputId": "364468e3-bf1c-4974-c73b-4f08b80d9058"
   },
   "outputs": [],
   "source": [
    "# Instantiate the model class\n",
    "fc = FullyConnected(input_features = 3 * 128 * 128, \n",
    "                      width=128) \n",
    "\n",
    "# Learning rates and number of epochs for first and second sets of epochs\n",
    "learning_rate_1 = 0.1\n",
    "learning_rate_2 = 0.01\n",
    "n_epochs_1 = 10\n",
    "n_epochs_2 = 10\n",
    "\n",
    "# Preallocate arrays for plotting training and validation losses.\n",
    "tl_arr = [0]*(n_epochs_1+n_epochs_2)\n",
    "vl_arr = [0]*(n_epochs_1+n_epochs_2)\n",
    "\n",
    "# Assign optimizer to the model\n",
    "optimizer = GradientDescent(fc.parameters(), learning_rate_1)\n",
    "\n",
    "# Perform first set of training epochs\n",
    "print(\"Training #1\")\n",
    "print(f\"number of epochs = {n_epochs_1}, learning_rate = {learning_rate_1}\")\n",
    "for i in range(n_epochs_1):\n",
    "    tl_arr[i], vl_arr[i] = train_epoch(training_loader, validation_loader, fc, loss, optimizer, device)\n",
    "    print(\"Epoch {}: Validation loss = {}\".format(i + 1, vl_arr[i]))\n",
    "\n",
    "# Assign optimizer with new learning rate to the model\n",
    "optimizer = GradientDescent(fc.parameters(), learning_rate_2)\n",
    "\n",
    "# Perform second set of training epochs\n",
    "print(\" \")\n",
    "print(\"Training #2\")\n",
    "print(f\"number of epochs = {n_epochs_2}, learning_rate = {learning_rate_2}\")\n",
    "for i in range(n_epochs_2):\n",
    "    tl_arr[n_epochs_1+i], vl_arr[n_epochs_1+i] = train_epoch(training_loader, validation_loader, fc, loss, optimizer, device)\n",
    "    print(\"Epoch {}: Validation loss = {}\".format(i + 1, vl_arr[n_epochs_1+i]))"
   ]
  },
  {
   "cell_type": "code",
   "execution_count": null,
   "metadata": {
    "colab": {
     "base_uri": "https://localhost:8080/",
     "height": 980
    },
    "colab_type": "code",
    "id": "m-rTc3ji94M6",
    "outputId": "a6366b5b-9ab3-444f-a7c2-98482527a71b"
   },
   "outputs": [],
   "source": [
    "# Plot the training and validation losses as functions of number of training epochs\n",
    "\n",
    "# Imports\n",
    "import matplotlib                                                                             \n",
    "import matplotlib.pyplot as plt \n",
    "from matplotlib.ticker import MaxNLocator\n",
    "\n",
    "# Define array of epochs\n",
    "epochs_arr = [0]*(n_epochs_1 + n_epochs_2)\n",
    "for i in range(n_epochs_1 + n_epochs_2):\n",
    "  epochs_arr[i] = i + 1\n",
    "\n",
    "# Define figure\n",
    "plt.figure(num=None, figsize=(6.4, 5.0), dpi=200)\n",
    "ax = plt.axes()\n",
    "\n",
    "# Plot training and validation losses\n",
    "plt.plot(epochs_arr,tl_arr, 'b', label='Training loss')\n",
    "plt.plot(epochs_arr,vl_arr, 'g', label='Validation loss')\n",
    "\n",
    "# Figure settings\n",
    "plt.title(f'learning_rate={learning_rate_1} for epochs 1-{n_epochs_1}\\n learning_rate={learning_rate_2} for epochs {n_epochs_1+1}-{n_epochs_1+n_epochs_2}')\n",
    "plt.xlim((1,n_epochs_1 + n_epochs_2))\n",
    "plt.xlabel('Epoch')\n",
    "ax.xaxis.set_major_locator(MaxNLocator(integer=True))\n",
    "plt.ylabel('Loss')\n",
    "plt.legend();\n"
   ]
  },
  {
   "cell_type": "markdown",
   "metadata": {
    "colab_type": "text",
    "id": "KhttWLLFSFE5"
   },
   "source": [
    "## [Exercise 3: Training on augmented training data, 3 points]\n",
    "\n",
    "If you trained the model long enough, you should see that the model overfits on the training data, which \n",
    "causes the generalization error to increase.  This is not surprising considering that the training set is rather small. A technique to counteract overfitting is to augment the training data by artificially increasing the size of the training data set. In this case we will use random transforms that mimic the effect of perspective or changes in lighting to the images.\n",
    "\n",
    "### 3, a) (1 point)\n",
    "\n",
    "Create an augmented training data set by adding suitable transforms from the [`torchvision.transforms`](https://pytorch.org/docs/stable/torchvision/transforms.html) module to the transformations that are applied when\n",
    "the images are loaded. Suitable transforms to consider are `RandomAffine` and `ColorJitter`.\n",
    "\n",
    "> **Hint**: Applying these transforms of course only makes sense for the training data and not the validation\n",
    " data. To ensure that this is the case do not create new `training_data` and `validation_data` objects but instead overwrite the `training_data.dataset` attribute of the existing `training_data` object, as shown below. (This is a bit hacky, but the easiest way to achieve this in the current context.)\n",
    " "
   ]
  },
  {
   "cell_type": "code",
   "execution_count": null,
   "metadata": {
    "colab": {
     "base_uri": "https://localhost:8080/",
     "height": 209
    },
    "colab_type": "code",
    "id": "WEIjJpopSFE6",
    "outputId": "6d547d8f-4246-42c5-dffa-350e329c2446"
   },
   "outputs": [],
   "source": [
    "# Remove this, unedited cell in provided assignment\n",
    "images_augmented = ... # Define augmented data\n",
    "\n",
    "training_data.dataset = dataset_augmented"
   ]
  },
  {
   "cell_type": "code",
   "execution_count": null,
   "metadata": {
    "colab": {},
    "colab_type": "code",
    "id": "1rVFZQwy99WA"
   },
   "outputs": [],
   "source": [
    "# Import the two suggested suitable transforms\n",
    "from torchvision.transforms import RandomAffine, ColorJitter\n",
    "\n",
    "# Transform with augmentation (and normilzation, to tensor)\n",
    "transform_augmented = Compose([RandomAffine(180), # random affine transformation of the image keeping center invariant. \n",
    "                                                  # Range of degrees to select from: (-180,180), allowing all rotations\n",
    "                               ColorJitter(1,1,1,0.5),  # randomly change the brightness, contrast, saturation and hue of an image.\n",
    "                                                        # parameters define ranges for brightness, contrast, saturation and hue factors.\n",
    "                               ToTensor(),\n",
    "                               Normalize([0.5, 0.5, 0.5], [0.5, 0.5, 0.5])])\n",
    "\n",
    "images_augmented = ImageFolder(folder, transform=transform_augmented) # Define augmented data\n",
    "\n",
    "training_data.transform = transform_augmented # Assign augmentation transform to training data\n",
    "validation_data.transform = transform         # Reassign normalization transform to validation data (just to be sure\n",
    "\n",
    "training_loader = DataLoader(training_data, batch_size=32, shuffle=True) # Re-load the training data with the augmentation transform\n",
    "validation_loader = DataLoader(validation_data, batch_size=32, shuffle=True) # Re-load the validation data with the normalization transform (just to be sure)"
   ]
  },
  {
   "cell_type": "markdown",
   "metadata": {
    "colab_type": "text",
    "id": "LlvT2MCsSFE-"
   },
   "source": [
    "Let's look at a preview of the augmented training data."
   ]
  },
  {
   "cell_type": "code",
   "execution_count": null,
   "metadata": {
    "colab": {
     "base_uri": "https://localhost:8080/",
     "height": 131
    },
    "colab_type": "code",
    "id": "fJZXPzOtSFE-",
    "outputId": "a091e654-126c-43bc-c706-087dd878362d"
   },
   "outputs": [],
   "source": [
    "f, axs = plt.subplots(1, 4, figsize=(8, 2))\n",
    "for i in range(4):\n",
    "    ax = axs[i]\n",
    "    ax.imshow(to_image(images_augmented[0][0]))\n",
    "    ax.set_xticks([])\n",
    "    ax.set_yticks([])"
   ]
  },
  {
   "cell_type": "markdown",
   "metadata": {
    "colab_type": "text",
    "id": "R0lKbdljSFFC"
   },
   "source": [
    "### 3, b) (1 point)\n",
    "\n",
    "Train the fully-connected model once again on the augmented training data. You should achieve a validation loss lower than 0.6. Plot training and validation loss."
   ]
  },
  {
   "cell_type": "code",
   "execution_count": null,
   "metadata": {
    "colab": {
     "base_uri": "https://localhost:8080/",
     "height": 476
    },
    "colab_type": "code",
    "id": "gAUDGuQA-Cwe",
    "outputId": "eda28429-5186-4efc-db74-8be418b678ea"
   },
   "outputs": [],
   "source": [
    "# Instantiate the model class\n",
    "fc = FullyConnected(input_features = 3 * 128 * 128, \n",
    "                     width=128) \n",
    "\n",
    "# Learning rates and number of epochs for first and second sets of epochs\n",
    "learning_rate_1 = 0.01\n",
    "learning_rate_2 = 0.001\n",
    "n_epochs_1 = 10\n",
    "n_epochs_2 = 10\n",
    "\n",
    "# Preallocate arrays for plotting training and validation losses.\n",
    "tl_arr = [0]*(n_epochs_1+n_epochs_2)\n",
    "vl_arr = [0]*(n_epochs_1+n_epochs_2)\n",
    "\n",
    "# Assign optimizer to the model\n",
    "optimizer = GradientDescent(fc.parameters(), learning_rate_1)\n",
    "\n",
    "# Perform first set of training epochs\n",
    "print(\"Training #1 on augmented training data\")\n",
    "print(f\"number of epochs = {n_epochs_1}, learning_rate = {learning_rate_1}\")\n",
    "for i in range(n_epochs_1):\n",
    "    tl_arr[i], vl_arr[i] = train_epoch(training_loader, validation_loader, fc, loss, optimizer, device)\n",
    "    print(\"Epoch {}: Validation loss = {}\".format(i + 1, vl_arr[i]))\n",
    "\n",
    "# Assign optimizer with new learning rate to the model\n",
    "optimizer = GradientDescent(fc.parameters(), learning_rate_2)\n",
    "\n",
    "# Perform second set of training epochs\n",
    "print(\" \")\n",
    "print(\"Training #2 on augmented training data\")\n",
    "print(f\"number of epochs = {n_epochs_2}, learning_rate = {learning_rate_2}\")\n",
    "for i in range(n_epochs_2):\n",
    "    tl_arr[n_epochs_1+i], vl_arr[n_epochs_1+i] = train_epoch(training_loader, validation_loader, fc, loss, optimizer, device)\n",
    "    print(\"Epoch {}: Validation loss = {}\".format(i + 1, vl_arr[n_epochs_1+i]))"
   ]
  },
  {
   "cell_type": "code",
   "execution_count": null,
   "metadata": {
    "colab": {
     "base_uri": "https://localhost:8080/",
     "height": 1000
    },
    "colab_type": "code",
    "id": "UzqwgKI--EFM",
    "outputId": "1bfcde39-0f69-4a68-f1fc-b6fce1cb4d39"
   },
   "outputs": [],
   "source": [
    "# Plot the training and validation losses as functions of number of training epochs\n",
    "\n",
    "# Imports\n",
    "import matplotlib                                                                             \n",
    "import matplotlib.pyplot as plt \n",
    "from matplotlib.ticker import MaxNLocator\n",
    "\n",
    "# Define array of epochs\n",
    "epochs_arr = [0]*(n_epochs_1 + n_epochs_2)\n",
    "for i in range(n_epochs_1 + n_epochs_2):\n",
    "  epochs_arr[i] = i + 1\n",
    "\n",
    "# Define figure\n",
    "plt.figure(num=None, figsize=(6.4, 5.0), dpi=200)\n",
    "ax = plt.axes()\n",
    "\n",
    "# Plot training and validation losses\n",
    "plt.plot(epochs_arr,tl_arr, 'b', label='Training loss')\n",
    "plt.plot(epochs_arr,vl_arr, 'g', label='Validation loss')\n",
    "\n",
    "# Figure settings\n",
    "plt.title(f'Training on augmented data\\n learning_rate={learning_rate_1} for epochs 1-{n_epochs_1}\\n learning_rate={learning_rate_2} for epochs {n_epochs_1+1}-{n_epochs_1+n_epochs_2}')\n",
    "plt.xlim((1,n_epochs_1 + n_epochs_2))\n",
    "plt.xlabel('Epoch')\n",
    "ax.xaxis.set_major_locator(MaxNLocator(integer=True))\n",
    "plt.ylabel('Loss')\n",
    "plt.legend();\n"
   ]
  },
  {
   "cell_type": "markdown",
   "metadata": {
    "colab_type": "text",
    "id": "XdC0y-ApSFFD"
   },
   "source": [
    "### 3, c) (1 point)\n",
    "\n",
    "A useful performance metric for binary classification tasks  is the [receiver operating characteristic (ROC)](https://en.wikipedia.org/wiki/Receiver_operating_characteristic). Complete the code below and write a function that computes the true positive and false positive rate for varying values of the discrimination threshold $p \\in [0, 1]$. Then, using the code below, plot the ROC. What is the significance of the line black, dashed line?"
   ]
  },
  {
   "cell_type": "code",
   "execution_count": null,
   "metadata": {
    "colab": {},
    "colab_type": "code",
    "id": "JWtdI9qgSFFE"
   },
   "outputs": [],
   "source": [
    "# Remove this, unedited cell in provided assignment\n",
    "def receiver_operating_characteristic(model,\n",
    "                                      validation_loader,\n",
    "                                      ps):\n",
    "    \"\"\"\n",
    "    Computes receiver operating characteristic for given model and\n",
    "    validation data.\n",
    "    \n",
    "    Arguments:\n",
    "        model: The pytorch model to evaluate.\n",
    "        validation_loader: torch DataLoader to use to iterate over validation data.\n",
    "        ps: Iterable containing the values of the discrimination threshold in\n",
    "           increasing order.\n",
    "    Returns:\n",
    "        (fpr, tpr): Tuple containing the false positive rates (fpr) and the true\n",
    "            positive rates as numpy.ndarrays.\n",
    "    \"\"\"\n",
    "    ..."
   ]
  },
  {
   "cell_type": "code",
   "execution_count": null,
   "metadata": {
    "colab": {},
    "colab_type": "code",
    "id": "0mJjxslX-Kvi"
   },
   "outputs": [],
   "source": [
    "def receiver_operating_characteristic(model,\n",
    "                                      validation_loader,\n",
    "                                      ps):\n",
    "    \"\"\"\n",
    "    Computes receiver operating characteristic for given model and\n",
    "    validation data.\n",
    "    \n",
    "    Arguments:\n",
    "        model: The pytorch model to evaluate.\n",
    "        validation_loader: torch DataLoader to use to iterate over validation data.\n",
    "        ps: Iterable containing the values of the discrimination threshold in\n",
    "           increasing order.\n",
    "    Returns:\n",
    "        (fpr, tpr): Tuple containing the false positive rates (fpr) and the true\n",
    "            positive rates as numpy.ndarrays.\n",
    "    \"\"\"\n",
    "    # Perform these computations on cpu as we use numpy calculations\n",
    "    device = cpu\n",
    "    model.to(device)\n",
    "\n",
    "    # Initialize tuples for tpr and fpr as numpy.ndarrays\n",
    "    tpr = np.array([0.]*len(ps))\n",
    "    fpr = np.array([0.]*len(ps))\n",
    "    \n",
    "\n",
    "    # Repeat counting of false and true positives for each p in ps\n",
    "    for j, p in enumerate(ps):\n",
    "      \n",
    "      # Reset counters for positives, negatives, and true and false positives\n",
    "      pos = 0\n",
    "      neg = 0\n",
    "      true_pos = 0\n",
    "      false_pos = 0\n",
    "\n",
    "      # Count false and true positives\n",
    "      for i, (x, y) in enumerate(validation_loader):\n",
    "        # Move validation data to device\n",
    "        x = x.to(device)\n",
    "        y = y.to(device)\n",
    "\n",
    "        y_pred = model(x) # Make predictions\n",
    "\n",
    "        # Convert torch tensors to numpy arrays (of same shape)\n",
    "        x = x.detach().numpy()\n",
    "        y = y.detach().numpy().astype(float)\n",
    "        y_pred = y_pred.detach().numpy()\n",
    "        y_pred = y_pred.reshape(y.shape)\n",
    "\n",
    "        # Count positives in validation data\n",
    "        pos += np.sum(y) # Number of 1s in y = number of positives in y\n",
    "        neg += len(y)-np.sum(y) # Number of 0s in y = number of negatives in y = number of elements in y - number of positives\n",
    "\n",
    "        # Using numpy\n",
    "        y_prob = 1/(1+np.exp(-y_pred)) # Convert y_pred (logit) to probability using sigmoid\n",
    "\n",
    "        # Check if predicted probabilities are larger than discrimination threshold\n",
    "        y_prob[y_prob > p] = 1  # If true, choose positive class as prediction \n",
    "        y_prob[y_prob <= p] = 0 # If false, choose negative class as prediction \n",
    "\n",
    "        y_true_pos = y_prob*y   # Get array with true positives as 1s (true positives become 1*1=1, false positives become 1*0=0, true and false negatives become 0)\n",
    "        y_false_pos = y_prob - y_true_pos # Get array with false positives as 1s (true positives become 1-1*1=0, false positives become 1-1*0=1, true and false negatives become 0)\n",
    "\n",
    "        true_pos += np.sum(y_true_pos)   # Count the number of true positives\n",
    "        false_pos += np.sum(y_false_pos) # Count the number of false negatives\n",
    "\n",
    "      # Calculate tpr and fpr for current p\n",
    "      if pos == 0.: # Avoid case where there are no positives in validation batch\n",
    "        tpr[j] = 0.\n",
    "      else:\n",
    "        tpr[j] = true_pos/pos\n",
    "        \n",
    "      if neg == 0.: # Avoid case where there are no negatives in validation batch\n",
    "        fpr[j] = 0.\n",
    "      else:\n",
    "        fpr[j] = false_pos/neg\n",
    "\n",
    "    \n",
    "    return (fpr, tpr)"
   ]
  },
  {
   "cell_type": "markdown",
   "metadata": {
    "colab_type": "text",
    "id": "ZOj9Hajbzjj3"
   },
   "source": [
    "**Note:** I implemented the calculation of true and false positive rates by converting the output data to numpy arrays. It is probably easier to use pytorch tensors, but I used numpy as I'm more comfortable working with this data structure."
   ]
  },
  {
   "cell_type": "code",
   "execution_count": null,
   "metadata": {
    "colab": {
     "base_uri": "https://localhost:8080/",
     "height": 313
    },
    "colab_type": "code",
    "id": "mzoRcr1nSFFH",
    "outputId": "1632c0db-95fa-4c57-b554-9696d254284b"
   },
   "outputs": [],
   "source": [
    "fpr, tpr = receiver_operating_characteristic(fc, validation_loader, np.linspace(0, 1, 101))\n",
    "\n",
    "# Plot ROC curve\n",
    "x = np.linspace(0, 1, 101)\n",
    "f, ax = plt.subplots(1, 1)\n",
    "ax.plot(x, x, c=\"k\", ls=\"--\")\n",
    "ax.plot(fpr, tpr)\n",
    "ax.set_ylabel(\"TPR\")\n",
    "ax.set_xlabel(\"FPR\")\n",
    "ax.set_title(\"Receiver operator characteristic\");"
   ]
  },
  {
   "cell_type": "markdown",
   "metadata": {
    "colab_type": "text",
    "id": "f-yQeZ37F7OH"
   },
   "source": [
    "### 3, c) Answer:\n",
    "The dashed, diagonal line is where the false positive rate equals the true positive rate. As such, the positive likelihood ratio, defined as the ratio $tpr/fpr$, is equal to unity along this diagonal line. As such, tests on this line has no diagnostic/classification value. The upper left corner, where $tpr=1$ and $fpr=0$ would correspond to a \"perfect test\". The ROC curve lies in the domain between these two places: the non-diagnostic line and the perfect test point, suggesting that the results are at least reasonable."
   ]
  },
  {
   "cell_type": "markdown",
   "metadata": {
    "colab_type": "text",
    "id": "OimBAyybSFFJ"
   },
   "source": [
    "Finally, let's look at the prediction for samples from the validation set. On average, your model should get more images right than wrong."
   ]
  },
  {
   "cell_type": "code",
   "execution_count": null,
   "metadata": {
    "colab": {
     "base_uri": "https://localhost:8080/",
     "height": 300
    },
    "colab_type": "code",
    "id": "6e1bZWwoSFFL",
    "outputId": "7b17a7d3-5f90-49b4-fd0a-795ecb6d9954"
   },
   "outputs": [],
   "source": [
    "def index_to_pet(index):\n",
    "    \n",
    "    if index == 0:\n",
    "        return \"cat\"\n",
    "    else:\n",
    "        return \"dog\"\n",
    "    \n",
    "def plot_results(model, validation_data):\n",
    "    model.to(torch.device(\"cpu\"))\n",
    "    f, axs = plt.subplots(2, 5, figsize=(10, 4))\n",
    "    for i in range(10):\n",
    "\n",
    "        # Make prediction on random validation sample\n",
    "        index = np.random.randint(len(validation_data))\n",
    "        x, y = validation_data[index]\n",
    "        c = torch.sigmoid(model(x.unsqueeze(0))) >= 0.5\n",
    "        x = 0.5 * (x + 1.0)\n",
    "        \n",
    "        ax = axs.ravel()[i]\n",
    "        ax.imshow(to_pil_image(x))\n",
    "        title = \"Predicted '{}', \\n True '{}'\"\n",
    "        title = title.format(index_to_pet(c), index_to_pet(y))\n",
    "        ax.set_title(title)\n",
    "        ax.set_xticks([])\n",
    "        ax.set_yticks([])\n",
    "    \n",
    "    plt.tight_layout()\n",
    "        \n",
    "plot_results(fc, validation_data)"
   ]
  },
  {
   "cell_type": "markdown",
   "metadata": {
    "colab_type": "text",
    "id": "2BMyUcusSFFO"
   },
   "source": [
    "## [Exercise 4: Training a convolutional  neural network, 4 points]\n",
    "\n",
    "### 4, a) (2 points)\n",
    "\n",
    "Define and train a convolutional network with the following architecture:\n",
    "- 2D conv. layer: $32$ filters, kernel size $5 \\times 5$, stride 1\n",
    "- ReLU activation function\n",
    "- Max pooling: kernel size $4 \\times 4$, stride 4\n",
    "- 2D conv. layer: $64$ filters, kernel size $5 \\times 5$, stride 1\n",
    "- ReLU activation function\n",
    "- Max pooling: kernel size $2 \\times 2$, stride 2\n",
    "- 2D conv. layer: $128$ filters, kernel size $3 \\times 3$, stride 1\n",
    "- ReLU activation function\n",
    "- Max pooling: kernel size $2 \\times 2$, stride 2\n",
    "- Fully connected: 512 neurons\n",
    "- ReLU activation function\n",
    "- Fully connected: 512 neurons\n",
    "    \n",
    "With this architecture, you should achive a validation loss below $0.3$. \n",
    "\n",
    "> **Hint:** You can find all necessary components to implement the convolutional network in the [`torch.nn`](https://pytorch.org/docs/stable/nn.html) module."
   ]
  },
  {
   "cell_type": "markdown",
   "metadata": {
    "colab_type": "text",
    "id": "kYc1PpY-AyCz"
   },
   "source": [
    "### 4, a) Solution:\n",
    "\n",
    "Each input has dimensions (3 x 128 x 128), 3 color channels and 128x128 pixels. As such, the first input layer should have in_channels=3\n",
    "\n",
    "Next, calculate the heights and widths after each convolution and maxpool layer:\n",
    "### Convolution\n",
    "input: (128x128), kernel: (5x5), stride: 1 $\\implies$ output: (128-5+1,128-5+1) = (124,124)\n",
    "\n",
    "in_channels: 3, out_channels: 32\n",
    "\n",
    "### MaxPool\n",
    "input: (124x124), kernel: (4x4), stride: 4 $\\implies$ output: ($(124-4)/4+1$,$(124-4)/4+1$) = (31,31)\n",
    "\n",
    "### Convolution\n",
    "input: (31x31), kernel: (5x5), stride: 1 $\\implies$ output: (31-5+1,31-5+1) = (27,27)\n",
    "\n",
    "in_channels: 32, out_channels: 64\n",
    "\n",
    "### MaxPool\n",
    "input: (27x27), kernel: (2x2), stride: 2 $\\implies$ output: ($\\lfloor(27-2)/2+1\\rfloor$,$\\lfloor(27-2)/2+1\\rfloor$) = ($\\lfloor 13.5\\rfloor$,$\\lfloor 13.5\\rfloor$) = (13,13)\n",
    "\n",
    "### Convolution\n",
    "input: (13x13), kernel: (3x3), stride: 1 $\\implies$ output: (13-3+1,13-3+3) = (11,11)\n",
    "\n",
    "in_channels: 64, out_channels: 128\n",
    "\n",
    "### MaxPool\n",
    "input: (11x11), kernel: (2x2), stride: 2 $\\implies$ output: ($\\lfloor(11-2)/2+1\\rfloor$,$\\lfloor(11-2)/2+1\\rfloor$) = ($\\lfloor 5.5 \\rfloor$,$\\lfloor 5.5 \\rfloor$) = (5,5)\n",
    "\n",
    "To apply the fully connected layers, we flatten the output with height 5 and width 5 to a single dimension of size $5\\cdot5 = 25$\n",
    "\n",
    "### Linear\n",
    "input: 25 pixel features, 128 channels $\\implies$ in_neurons = 25*128\n",
    "\n",
    "output: 512 neurons\n",
    "\n",
    "### Linear\n",
    "input: 512 neurons\n",
    "\n",
    "output: 512 neurons\n",
    "\n",
    "Finally, we apply a fully connected layer to get an output of size 1 (to which we then can apply a sigmoid activation function to obtain classification probabilities)"
   ]
  },
  {
   "cell_type": "code",
   "execution_count": null,
   "metadata": {
    "colab": {},
    "colab_type": "code",
    "id": "yK41VyFVA0uo"
   },
   "outputs": [],
   "source": [
    "# Define CNN using the sequential module\n",
    "# Simply build the network by adding the layers one after another\n",
    "\n",
    "\n",
    "# Comments are to keep track of the width and height dimensions after convolutions and pooling\n",
    "cnn = nn.Sequential(\n",
    "                    nn.Conv2d(in_channels=3, out_channels=32, kernel_size=5, stride=1),   # 124 x 124\n",
    "                    nn.ReLU(),\n",
    "                    nn.MaxPool2d(kernel_size=4, stride=4),    # 31 x 31\n",
    "                    nn.Conv2d(in_channels=32, out_channels=64, kernel_size=5, stride=1),  # 27 x 27\n",
    "                    nn.ReLU(),\n",
    "                    nn.MaxPool2d(kernel_size=2, stride=2),    # 13 x 13\n",
    "                    nn.Conv2d(in_channels=64, out_channels=128, kernel_size=3, stride=1), # 11 x 11\n",
    "                    nn.ReLU(),\n",
    "                    nn.MaxPool2d(kernel_size=2, stride=2),      # 5 x 5\n",
    "                    nn.Flatten(1, -1),                        # 25 (to apply fully connected layer)\n",
    "                    nn.Linear(25*128, 512),                   \n",
    "                    nn.ReLU(),\n",
    "                    nn.Linear(512,512),\n",
    "                    nn.Linear(512,1)        # Linear output layer\n",
    ")\n"
   ]
  },
  {
   "cell_type": "code",
   "execution_count": null,
   "metadata": {
    "colab": {
     "base_uri": "https://localhost:8080/",
     "height": 201
    },
    "colab_type": "code",
    "id": "elMk8gepA3HL",
    "outputId": "e0da82d9-aa97-4f6f-ff90-0449817a7bc4"
   },
   "outputs": [],
   "source": [
    "# Train the CNN\n",
    "\n",
    "# Choose learning rate, loss function, optimization algorithm and device\n",
    "learning_rate = 0.1\n",
    "loss = nn.BCEWithLogitsLoss()\n",
    "optimizer = GradientDescent(cnn.parameters(), learning_rate)\n",
    "device = torch.device(\"cuda\")\n",
    "\n",
    "# Train for 10 epochs\n",
    "for i in range(10):\n",
    "    tl, vl = train_epoch(training_loader, validation_loader, cnn, loss, optimizer, device)\n",
    "    print(\"Epoch {}: Validation loss = {}\".format(i + 1, vl))"
   ]
  },
  {
   "cell_type": "markdown",
   "metadata": {
    "colab_type": "text",
    "id": "Ojd85ABqSFFO"
   },
   "source": [
    "### 4, a)  (2 points)\n",
    "\n",
    "Tune the network architecture and training routin to achieve a validation error lower than 0.15 on the validation set. Some things you may want to try:\n",
    "- Increasing the complexity of your network (more layers, filters or neurons)\n",
    "- A learning rate schedule\n",
    "- Checkpoints or early stopping"
   ]
  },
  {
   "cell_type": "markdown",
   "metadata": {
    "colab_type": "text",
    "id": "Lp9CJf9d5bgu"
   },
   "source": [
    "### 4, a) Answer:\n",
    "We define a new, modified network and train it with a learning rate schedule to try to improve the validation loss.\n",
    "\n",
    "- Added dropout to the visible layer and one hidden layer (regularization by ignoring randomly selected neurons in the training-phase to decrease overfitting)\n",
    "\n",
    "- Added neurons\n",
    "\n",
    "- Implemented a very simple learning rate schedule, where the learning rate is initially set to a larger value and then lowered after a number of training epochs"
   ]
  },
  {
   "cell_type": "code",
   "execution_count": null,
   "metadata": {
    "colab": {},
    "colab_type": "code",
    "id": "_cpp0uf15MGN"
   },
   "outputs": [],
   "source": [
    "# Define CNN using the sequential module\n",
    "# Simply build the network by adding the layers one after another\n",
    "\n",
    "\n",
    "# Comments are to keep track of the width and height dimensions after convolutions and pooling\n",
    "cnn_two = nn.Sequential(\n",
    "                    nn.Dropout(p=0.5),    # 20% dropout rate to input layer\n",
    "                    nn.Conv2d(in_channels=3, out_channels=64, kernel_size=5, stride=1),   # 124 x 124\n",
    "                    nn.ReLU(),\n",
    "                    nn.MaxPool2d(kernel_size=4, stride=4),    # 31 x 31\n",
    "                    nn.Conv2d(in_channels=64, out_channels=128, kernel_size=5, stride=1),  # 27 x 27\n",
    "                    nn.ReLU(),\n",
    "                    nn.Dropout(p=0.5),    # 50% dropout rate to one of the hidden layer\n",
    "                    nn.MaxPool2d(kernel_size=2, stride=2),    # 13 x 13\n",
    "                    nn.Conv2d(in_channels=128, out_channels=256, kernel_size=3, stride=1), # 11 x 11\n",
    "                    nn.ReLU(),\n",
    "                    nn.MaxPool2d(kernel_size=2, stride=2),      # 5 x 5\n",
    "                    nn.Flatten(1, -1),                        # 25 (to apply fully connected layer)\n",
    "                    nn.Linear(25*256, 512),                   \n",
    "                    nn.ReLU(),\n",
    "                    nn.Linear(512,512),\n",
    "                    nn.Linear(512,1)        # Linear output layer\n",
    ")\n"
   ]
  },
  {
   "cell_type": "code",
   "execution_count": null,
   "metadata": {
    "colab": {
     "base_uri": "https://localhost:8080/",
     "height": 660
    },
    "colab_type": "code",
    "id": "hrBkUkXu5N9T",
    "outputId": "bbd48086-f26d-4dc5-b724-5736a52df670"
   },
   "outputs": [],
   "source": [
    "# Train the CNN\n",
    "\n",
    "# Choose learning rate, loss function, optimization algorithm and device\n",
    "learning_rate_1 = 0.2\n",
    "loss = nn.BCEWithLogitsLoss()\n",
    "optimizer = GradientDescent(cnn_two.parameters(), learning_rate_1)\n",
    "device = torch.device(\"cuda\")\n",
    "# First training session for 10 epochs\n",
    "print(\"Training #1\")\n",
    "for i in range(10):\n",
    "    tl, vl = train_epoch(training_loader, validation_loader, cnn_two, loss, optimizer, device)\n",
    "    print(\"Epoch {}: Validation loss = {}\".format(i + 1, vl))\n",
    "\n",
    "# Choose learning rate, loss function, optimization algorithm and device\n",
    "learning_rate_2 = 0.1\n",
    "optimizer = GradientDescent(cnn_two.parameters(), learning_rate_2)\n",
    "# Second training session for 10 epochs\n",
    "print(\" \")\n",
    "print(\"Training #2\")\n",
    "for i in range(10):\n",
    "    tl, vl = train_epoch(training_loader, validation_loader, cnn_two, loss, optimizer, device)\n",
    "    print(\"Epoch {}: Validation loss = {}\".format(i + 1, vl))\n",
    "\n",
    "# Choose learning rate, loss function, optimization algorithm and device\n",
    "learning_rate_3 = 0.01\n",
    "optimizer = GradientDescent(cnn_two.parameters(), learning_rate_3)\n",
    "# Third training session for 10 epochs\n",
    "print(\" \")\n",
    "print(\"Training #3\")\n",
    "for i in range(10):\n",
    "    tl, vl = train_epoch(training_loader, validation_loader, cnn_two, loss, optimizer, device)\n",
    "    print(\"Epoch {}: Validation loss = {}\".format(i + 1, vl))"
   ]
  },
  {
   "cell_type": "markdown",
   "metadata": {
    "colab_type": "text",
    "id": "mpwbkgLTSFFP"
   },
   "source": [
    "## [Exercise 5: Evaluation on test set, 2 points]\n",
    "\n",
    "Now evaluate the performance of the fully-connected neural network to your best convolutional neural network on the `catsndogs` test data, which is available in `catsndogs.test` module.\n",
    "\n",
    "- Plot ROC curves for both the fully-connected and the convolutional model.\n",
    "- Compute the accuracy of each model for a discimination threshold p = 0.5\n",
    "- Provide a plot of 8 images from the test set together with the prediction from the convolutional model."
   ]
  },
  {
   "cell_type": "markdown",
   "metadata": {
    "colab_type": "text",
    "id": "rXPO4BE4UtYb"
   },
   "source": [
    "### 5 Answer:"
   ]
  },
  {
   "cell_type": "code",
   "execution_count": null,
   "metadata": {
    "colab": {},
    "colab_type": "code",
    "id": "9clUyN_aDEFU"
   },
   "outputs": [],
   "source": [
    "# Import and load the test data\n",
    "from catsndogs.test import cats, dogs # The lists of cat and dog images in test set.\n",
    "from catsndogs.test import folder\n",
    "\n",
    "test_data = ImageFolder(folder, transform=transform) # Transform: normalize and to tensor\n",
    "test_loader = DataLoader(test_data, batch_size=32, shuffle=True)"
   ]
  },
  {
   "cell_type": "markdown",
   "metadata": {
    "colab_type": "text",
    "id": "YvcX8UojJSSW"
   },
   "source": [
    "Plot the  ROC curves for the fully-connected and convolutional models using the previously defined function. Note, this takes some time due to the function `reciever_operating_characteristic()` being defined using numpy calculations on cpu."
   ]
  },
  {
   "cell_type": "code",
   "execution_count": null,
   "metadata": {
    "colab": {},
    "colab_type": "code",
    "id": "S6RDOXBWFO2N"
   },
   "outputs": [],
   "source": [
    "# Calculate false and true positive rates for the fully connected NN and the CNN\n",
    "fpr_fc, tpr_fc = receiver_operating_characteristic(fc, test_loader, np.linspace(0, 1, 101))\n",
    "fpr_cnn, tpr_cnn = receiver_operating_characteristic(cnn, test_loader, np.linspace(0, 1, 101))"
   ]
  },
  {
   "cell_type": "code",
   "execution_count": null,
   "metadata": {
    "colab": {
     "base_uri": "https://localhost:8080/",
     "height": 297
    },
    "colab_type": "code",
    "id": "Z8RuPyKGX0QU",
    "outputId": "3304d72a-7ebb-4005-9b9c-4f08d03c6d40"
   },
   "outputs": [],
   "source": [
    "# Plot ROC curves\n",
    "x = np.linspace(0, 1, 101)\n",
    "f, ax = plt.subplots(1, 2, figsize=(10, 4))\n",
    "ax[0].plot(x, x, c=\"k\", ls=\"--\")\n",
    "ax[0].plot(fpr_fc, tpr_fc)\n",
    "ax[0].set_ylabel(\"TPR\")\n",
    "ax[0].set_xlabel(\"FPR\")\n",
    "ax[0].set_title(\"Receiver operator characteristic: fc\")\n",
    "\n",
    "ax[1].plot(x, x, c=\"k\", ls=\"--\")\n",
    "ax[1].plot(fpr_cnn, tpr_cnn)\n",
    "ax[1].set_ylabel(\"TPR\")\n",
    "ax[1].set_xlabel(\"FPR\")\n",
    "ax[1].set_title(\"Receiver operator characteristic: cnn\");\n",
    "\n",
    "plt.tight_layout() ;"
   ]
  },
  {
   "cell_type": "markdown",
   "metadata": {
    "colab_type": "text",
    "id": "K3zzUHQ8JYSA"
   },
   "source": [
    "Retrieve the number of negatives and positives in the test data as well as the number of true positives and negatives in the predictions for calculating the accuracies with a discrimination threshold $p=0.5$.\n",
    "\n",
    "Calculate the accuracy of the models according to \n",
    "$$\\mathrm{Accuracy} = \\frac{\\mathrm{TP} + \\mathrm{TN}}{\\mathrm{P} + \\mathrm{N}}$$\n",
    "where $\\mathrm{TP}$ is the number of true positives, $\\mathrm{TN}$ is the number of true negatives, $\\mathrm{P}$ is the number of positives and $\\mathrm{N}$ the number of negatives in the test set. "
   ]
  },
  {
   "cell_type": "code",
   "execution_count": null,
   "metadata": {
    "colab": {},
    "colab_type": "code",
    "id": "2ssGKpidTChA"
   },
   "outputs": [],
   "source": [
    "# Define function to calculate accuracies\n",
    "\n",
    "def get_accuracies(model,\n",
    "                   test_loader,\n",
    "                   p):\n",
    "    \"\"\"\n",
    "    Computes model accuracy for given model and test data.\n",
    "    \n",
    "    Arguments:\n",
    "        model: The pytorch model to evaluate.\n",
    "        test_loader: torch DataLoader to use to iterate over test data.\n",
    "        p: Floating point number corresponding to the value of the \n",
    "           discrimination threshold.\n",
    "    Returns:\n",
    "        (acc, P, N, TP, TN): Model accuracy on the test data, as well as number \n",
    "                             of positives and negatives in the test data and\n",
    "                             the number of true positives and true negatives\n",
    "                             in the prediction of the model.\n",
    "    \"\"\"\n",
    "    # Perform these computations on cpu as we use numpy calculations\n",
    "    device = cpu\n",
    "    model.to(device)\n",
    "    \n",
    "    # Reset counters for positives, negatives, and true and false positives\n",
    "    pos = 0\n",
    "    neg = 0\n",
    "    true_pos = 0\n",
    "    false_pos = 0\n",
    "    true_neg = 0\n",
    "\n",
    "    # Count false and true positives\n",
    "    for i, (x, y) in enumerate(test_loader):\n",
    "      # Move validation data to device\n",
    "      x = x.to(device)\n",
    "      y = y.to(device)\n",
    "\n",
    "      y_pred = model(x) # Make predictions\n",
    "\n",
    "      # Convert torch tensors to numpy arrays (of same shape)\n",
    "      x = x.detach().numpy()\n",
    "      y = y.detach().numpy().astype(float)\n",
    "      y_pred = y_pred.detach().numpy()\n",
    "      y_pred = y_pred.reshape(y.shape)\n",
    "\n",
    "      # Count positives in validation data\n",
    "      pos += np.sum(y) # Number of 1s in y = number of positives in y\n",
    "      neg += len(y)-np.sum(y) # Number of 0s in y = number of negatives in y = number of elements in y - number of positives\n",
    "\n",
    "      # Using numpy\n",
    "      y_prob = 1/(1+np.exp(-y_pred)) # Convert y_pred (logit) to probability using sigmoid\n",
    "\n",
    "      # Check if predicted probabilities are larger than discrimination threshold\n",
    "      y_prob[y_prob > p] = 1  # If true, choose positive class as prediction \n",
    "      y_prob[y_prob <= p] = 0 # If false, choose negative class as prediction \n",
    "\n",
    "      y_true_pos = y_prob*y   # Get array with true positives as 1s (true positives become 1*1=1, false positives become 1*0=0, true and false negatives become 0)\n",
    "      y_true_neg = y_prob + y # Get array with true negatives as 0s (true positives become 1+1=2, false positives and false negatives become 1+0=0+1=1, true  negatives become 0+0=0)\n",
    "      y_true_neg[y_true_neg > 1] = 1 # Turn true positives (2s) into 1s to count number of elements which are not true negatives\n",
    "\n",
    "      true_pos += np.sum(y_true_pos)   # Count the number of true positives\n",
    "      true_neg += len(y_true_neg) - np.sum(y_true_neg) # Number of 0s in y_true_neg = number of true negatives in y_true_neg\n",
    "\n",
    "      # Get P, N, TP, TN for calculating accuracy\n",
    "      P = pos\n",
    "      N = neg\n",
    "      TP = true_pos\n",
    "      TN = true_neg\n",
    "\n",
    "      # Calculate accuracy\n",
    "      acc = (TP+TN)/(P+N)\n",
    "\n",
    "    \n",
    "    return (acc, P, N, TP, TN)"
   ]
  },
  {
   "cell_type": "code",
   "execution_count": null,
   "metadata": {
    "colab": {
     "base_uri": "https://localhost:8080/",
     "height": 54
    },
    "colab_type": "code",
    "id": "Ap9fq04wHIIc",
    "outputId": "c935bdc0-72f5-456b-bd00-5c8367d7b4a0"
   },
   "outputs": [],
   "source": [
    "# Get accuracy (and P, N, TP, TN) for both models on the test data with p=0.5\n",
    "acc_fc, P_fc, N_fc, TP_fc, TN_fc = get_accuracies(fc, test_loader, p=0.5)\n",
    "acc_cnn, P_cnn, N_cnn, TP_cnn, TN_cnn = get_accuracies(cnn, test_loader, p=0.5)\n",
    "\n",
    "# Display the accuracies\n",
    "print(f\"Accuracy of fully-connected model with p=0.5:    {acc_fc:.04}\")\n",
    "print(f\"Accuracy of CNN model with p=0.5:                {acc_cnn:.04}\")"
   ]
  },
  {
   "cell_type": "markdown",
   "metadata": {
    "colab_type": "text",
    "id": "xEBo-1QRNvl9"
   },
   "source": [
    "Plot 8 random images from the test set along with their true label and the prediction from the convolutional model."
   ]
  },
  {
   "cell_type": "code",
   "execution_count": null,
   "metadata": {
    "colab": {
     "base_uri": "https://localhost:8080/",
     "height": 297
    },
    "colab_type": "code",
    "id": "xMpi8BSaNv03",
    "outputId": "075c570e-9541-4d0b-aa6e-b6f49018e4e7"
   },
   "outputs": [],
   "source": [
    "def plot_test_results(model, test_data):\n",
    "    model.to(torch.device(\"cpu\"))\n",
    "    f, axs = plt.subplots(2, 4, figsize=(10, 4))\n",
    "    for i in range(8):\n",
    "\n",
    "        # Make prediction on random test sample\n",
    "        index = np.random.randint(len(test_data))\n",
    "        x, y = test_data[index]\n",
    "        c = torch.sigmoid(model(x.unsqueeze(0))) >= 0.5\n",
    "        x = 0.5 * (x + 1.0)\n",
    "        \n",
    "        ax = axs.ravel()[i]\n",
    "        ax.imshow(to_pil_image(x))\n",
    "        title = \"Predicted '{}', \\n True '{}'\"\n",
    "        title = title.format(index_to_pet(c), index_to_pet(y))\n",
    "        ax.set_title(title)\n",
    "        ax.set_xticks([])\n",
    "        ax.set_yticks([])\n",
    "    \n",
    "    plt.tight_layout()\n",
    "        \n",
    "plot_test_results(cnn, test_data)"
   ]
  },
  {
   "cell_type": "markdown",
   "metadata": {
    "colab_type": "text",
    "id": "PQnSTLz2SFFP"
   },
   "source": [
    "## [Exercise 6 (Bonus*): Your algorithm in the wild, 2 points]\n",
    "\n",
    "Acquire an image of a cat or dog resize it to size $128 \\times 128$ pixels and apply your model to it. Present your results. Does it work?\n",
    "\n",
    "\n",
    "*: This is bonus exercise and will give you two point that can make up for a point lost somewhere in the assignment."
   ]
  },
  {
   "cell_type": "code",
   "execution_count": null,
   "metadata": {
    "colab": {
     "base_uri": "https://localhost:8080/",
     "height": 274
    },
    "colab_type": "code",
    "id": "yucHtaMHPRN1",
    "outputId": "96b3b03d-34cf-4252-8a33-be053236dea8"
   },
   "outputs": [],
   "source": [
    "# Install PyDrive\n",
    "!pip install PyDrive"
   ]
  },
  {
   "cell_type": "code",
   "execution_count": null,
   "metadata": {
    "colab": {},
    "colab_type": "code",
    "id": "bx2tDThKEiYP"
   },
   "outputs": [],
   "source": [
    "# Imports to access files from Google Drive\n",
    "from pydrive.auth import GoogleAuth\n",
    "from pydrive.drive import GoogleDrive\n",
    "from google.colab import auth\n",
    "from oauth2client.client import GoogleCredentials\n"
   ]
  },
  {
   "cell_type": "code",
   "execution_count": null,
   "metadata": {
    "colab": {},
    "colab_type": "code",
    "id": "NZk4p0cVEjip"
   },
   "outputs": [],
   "source": [
    "# Authenticate and create PyDrive client\n",
    "auth.authenticate_user()\n",
    "gauth = GoogleAuth()\n",
    "gauth.credentials = GoogleCredentials.get_application_default()\n",
    "drive = GoogleDrive(gauth)\n",
    "\n",
    "# Note that this requires access to my Google Drive account"
   ]
  },
  {
   "cell_type": "code",
   "execution_count": null,
   "metadata": {
    "colab": {},
    "colab_type": "code",
    "id": "LgdKWHHcEktU"
   },
   "outputs": [],
   "source": [
    "# Get file from drive\n",
    "downloaded = drive.CreateFile({'id':\"1vuo9excRPoMA_1Wyi6qpGgqEgIdZmBd6\"})   # replace the id with id of file you want to access\n",
    "downloaded.GetContentFile('cat_on_desk.jpg')                                # replace the file name with your file\n"
   ]
  },
  {
   "cell_type": "code",
   "execution_count": null,
   "metadata": {
    "colab": {
     "base_uri": "https://localhost:8080/",
     "height": 297
    },
    "colab_type": "code",
    "id": "Y2k-b5grEl-Y",
    "outputId": "bd21a6c3-b9d2-4b06-8728-cd1e0cf3a91e"
   },
   "outputs": [],
   "source": [
    "# Plot the imported image\n",
    "%matplotlib inline\n",
    "import matplotlib.pyplot as plt\n",
    "import numpy as np\n",
    "from PIL import Image\n",
    "\n",
    "f, ax = plt.subplots(1, 1, figsize = (8, 4))\n",
    "for i in range(1):\n",
    "    ax.set_title(\"A Cat in the wild\")\n",
    "    ax.imshow(Image.open('cat_on_desk.jpg')) # Replace file name here\n",
    "plt.tight_layout()"
   ]
  },
  {
   "cell_type": "code",
   "execution_count": null,
   "metadata": {
    "colab": {},
    "colab_type": "code",
    "id": "ZnsuItP4K0tn"
   },
   "outputs": [],
   "source": [
    "# Define transform that also resizes image to 128x128 pixels\n",
    "transform_resize = Compose([Resize((128,128)),\n",
    "                            ToTensor(),\n",
    "                            Normalize([0.5, 0.5, 0.5], [0.5, 0.5, 0.5])])"
   ]
  },
  {
   "cell_type": "code",
   "execution_count": null,
   "metadata": {
    "colab": {},
    "colab_type": "code",
    "id": "3FmOIm8XEtgK"
   },
   "outputs": [],
   "source": [
    "# Resize the image\n",
    "image_name = 'cat_on_desk.jpg'\n",
    "wild_cat = to_tensor(Image.open(image_name))\n",
    "wild_cat = to_pil_image(wild_cat)\n",
    "wild_cat_resized = transform_resize(wild_cat)\n",
    "\n"
   ]
  },
  {
   "cell_type": "code",
   "execution_count": null,
   "metadata": {
    "colab": {
     "base_uri": "https://localhost:8080/",
     "height": 297
    },
    "colab_type": "code",
    "id": "mq_4ntl_GHg2",
    "outputId": "7c8c08c8-4caf-4132-8c80-41c98ccfa743"
   },
   "outputs": [],
   "source": [
    "# Plot resized image with prediction\n",
    "def plot_wild_results(model, wild_data):\n",
    "    model.to(torch.device(\"cpu\"))\n",
    "    f, ax = plt.subplots(1, 1, figsize=(10, 4))\n",
    "    for i in range(1):\n",
    "\n",
    "        # Make prediction on provided sample\n",
    "        x = wild_cat_resized\n",
    "        c = torch.sigmoid(model(x.unsqueeze(0))) >= 0.5\n",
    "        x = 0.5 * (x + 1.0)\n",
    "        \n",
    "        ax.imshow(to_pil_image(x))\n",
    "        title = \"A Cat in the wild \\n Predicted (cnn): '{}' \\n True: '{}'\"\n",
    "        title = title.format(index_to_pet(c), index_to_pet(0)) # This is most definitely a cat\n",
    "        ax.set_title(title)\n",
    "        ax.set_xticks([])\n",
    "        ax.set_yticks([])\n",
    "    \n",
    "    plt.tight_layout()\n",
    "        \n",
    "plot_wild_results(cnn, wild_cat)"
   ]
  },
  {
   "cell_type": "code",
   "execution_count": null,
   "metadata": {
    "colab": {},
    "colab_type": "code",
    "id": "nDtscLesMAxG"
   },
   "outputs": [],
   "source": []
  }
 ],
 "metadata": {
  "accelerator": "GPU",
  "colab": {
   "collapsed_sections": [
    "9ooqlOUcSFCD",
    "Rqk3HRD9Srz_",
    "2ChrRgkVSv_g",
    "_0N8mo8DSFCe"
   ],
   "name": "Hw4a.ipynb",
   "provenance": []
  },
  "kernelspec": {
   "display_name": "Python 3",
   "language": "python",
   "name": "python3"
  },
  "language_info": {
   "codemirror_mode": {
    "name": "ipython",
    "version": 3
   },
   "file_extension": ".py",
   "mimetype": "text/x-python",
   "name": "python",
   "nbconvert_exporter": "python",
   "pygments_lexer": "ipython3",
   "version": "3.6.9"
  }
 },
 "nbformat": 4,
 "nbformat_minor": 1
}
