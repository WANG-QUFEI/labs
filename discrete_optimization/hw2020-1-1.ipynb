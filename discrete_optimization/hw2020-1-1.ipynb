{
 "cells": [
  {
   "cell_type": "markdown",
   "metadata": {},
   "source": [
    "\n",
    "$\\qquad$ $\\qquad$$\\qquad$  **TDA231/DIT370 Discrete Optimization: Home Assignment 1 -- Modelling and Solving with LPs** <br />\n",
    "$\\qquad$ $\\qquad$$\\qquad$                   **Grader: Divya** <br />\n",
    "$\\qquad$ $\\qquad$$\\qquad$                     **Due Date: 27th January** <br />\n",
    "$\\qquad$ $\\qquad$$\\qquad$                   **Submitted by: Markus Ingvarsson and Qufei Wang, Personal No: 940712-0154 and 900212-6952, Email: markusi@student.chalmers.se and qufei@student.chalmers.se ** <br />\n",
    "\n",
    "\n",
    "---\n",
    "\n",
    "\n",
    "General guidelines:\n",
    "*   All solutions to theoretical and pratical problems must be submitted in this ipynb notebook, and equations wherever required, should be formatted using LaTeX math-mode.\n",
    "*   All discussion regarding practical problems, along with solutions and plots should be specified in this notebook. All plots/results should be visible such that the notebook do not have to be run. But the code in the notebook should reproduce the plots/results if we choose to do so.\n",
    "*   Your name, personal number and email address should be specified above.\n",
    "*   All tables and other additional information should be included in this notebook.\n",
    "*   Before submitting, make sure that your code can run on another computer. That all plots can show on another computer including all your writing. It is good to check if your code can run here: https://colab.research.google.com.\n"
   ]
  },
  {
   "cell_type": "markdown",
   "metadata": {},
   "source": [
    "# Problem 1.\n",
    "\n",
    "Consider the following LP problem:\n",
    "\n",
    "\n",
    "\\begin{array}\n",
    "\\mathcal{max}\\quad 4x_1-2x_2+5x_3+6x_4+7x_5\\\\\n",
    "\\textrm{s.t} \\\\\n",
    "2x_1 + 2x_2 - 4x_3 + 4x_4 + 8x_5 \\leq 6\\\\\n",
    "2x_1 + x_2 - 2x_3 - x_4 - 3x_5 \\geq -1\\\\\n",
    "5x_1 - 2x_2 + 4x_3 + 4x_4 + 2x_5 = 5\\\\\n",
    "2x_1 - 2x_2 + 5x_3 + 3x_4 + x_5 \\leq 4\\\\\n",
    "\\vec x \\geq \\vec 0\n",
    "\\end{array}\n",
    "\n",
    "* (10 points) Use CVXOPT to solve the LP above. Submit your code, and print the solution vector and objective value."
   ]
  },
  {
   "cell_type": "code",
   "execution_count": 1,
   "metadata": {},
   "outputs": [
    {
     "name": "stdout",
     "output_type": "stream",
     "text": [
      "     pcost       dcost       gap    pres   dres   k/t\n",
      " 0: -8.0206e+00 -2.1734e+01  2e+01  5e-01  1e+00  1e+00\n",
      " 1: -8.5557e+00 -1.0861e+01  2e+00  1e-01  3e-01  5e-01\n",
      " 2: -9.1823e+00 -9.4031e+00  2e-01  8e-03  2e-02  6e-03\n",
      " 3: -9.2199e+00 -9.2224e+00  2e-03  9e-05  2e-04  6e-05\n",
      " 4: -9.2203e+00 -9.2204e+00  2e-05  9e-07  2e-06  6e-07\n",
      " 5: -9.2203e+00 -9.2203e+00  2e-07  9e-09  2e-08  6e-09\n",
      "Optimal solution found.\n",
      "The maximum value of the expression is: [ 9.22e+00]\n",
      "\n"
     ]
    }
   ],
   "source": [
    "import cvxopt.modeling as cv\n",
    "x1 = cv.variable()\n",
    "x2 = cv.variable()\n",
    "x3 = cv.variable()\n",
    "x4 = cv.variable()\n",
    "x5 = cv.variable()\n",
    "c1 = (2*x1 + 2*x2 - 4*x3 + 4*x4 + 8*x5 <= 6)\n",
    "c2 = (2*x1 + x2 - 2*x3 - x4 - 3*x5 >= -1)\n",
    "c3 = (5*x1 - 2*x2 + 4*x3 + 4*x4 + 2*x5 == 5)\n",
    "c4 = (2*x1 - 2*x2 + 5*x3 + 3*x4 + x5 <= 4)\n",
    "c5 = (x1 >= 0)\n",
    "c6 = (x2 >= 0)\n",
    "c7 = (x3 >= 0)\n",
    "c8 = (x4 >= 0)\n",
    "c9 = (x5 >= 0)\n",
    "lp1 = cv.op(-1*(4*x1 - 2*x2 + 5*x3 + 6*x4 + 7*x5), [c1,c2,c3,c4,c5,c6,c7,c8,c9])\n",
    "lp1.solve()\n",
    "lp1.status\n",
    "result = -1*lp1.objective.value()\n",
    "print(\"The maximum value of the expression is: \" + str(result))"
   ]
  },
  {
   "cell_type": "markdown",
   "metadata": {},
   "source": [
    "# Problem 2.\n",
    "\n",
    "There are 4 space colonies, each of which  requires a certain number of plasma conduits. There are 3 starbases in the vicinity. Each of them has total number of conduits they can spare and supply to the colonies. For each pair of starbase and colony, there is an associated cost for sending a cargo ship  (each of which carries one plasma conduit), as shown in the table below:\n",
    "\n",
    "\n",
    "\\begin{array}{l|c|c|c|c|c} \n",
    "      & Triacus & New Berlin  & Strnad  & Vega  & supply\\\\ \\hline\n",
    " Farpoint &   6 &  9 & 10 & 8 & 35\\\\\n",
    " Yorktown &  9 & 5 & 16 & 14 & 40\\\\\n",
    " Earhart & 12 &  7 & 13 & 9 & 50\\\\ \\hline\n",
    "    demand & 20 &30&30&45& \\left(\\sum=125\\right) \\\\ \n",
    "\\end{array}\n",
    "\n",
    "Your goal is to supply the colonies the plasma conduits they need, at minimum cost.\n",
    "\n",
    "\n",
    "* (5 points) Consider the general *transportation problem*: where there are $\\bf{n}$ colonies and $\\bf{m}$ bases and the costs are given by a $\\bf{m} \\times \\bf{n}$ matrix $\\mathcal{C}$, demand and supply are given by arrays $\\bf{d}$ and $\\bf{s}$ respectively. Formulate a LP to solve the problem.\n",
    "\n",
    "* (3 points) Code the LP in CVXOPT, input the data for the space colonies manually and use CVXOPT to solve the LP. Submit your code and write down the solution and objective.\n",
    "\n",
    "* (2 points) Use CVXOPT to show what  the  effect  on the model and the optimal solution would be if each of the starbases could supply five more conduits."
   ]
  },
  {
   "cell_type": "markdown",
   "metadata": {},
   "source": [
    "### Problem 2.1\n",
    "\n",
    "Let $j = 1 \\dots n$ represent $n$ colonies and $i = 1 \\dots m$ represent $m$ bases.\n",
    "Let $V$ represent the variable matrix, with $V_{i,j}$ corresponding to the number of conduits shipped from starbase $i$ to colony $j$.\n",
    "\n",
    "The constraints on supply can be expressed as:\n",
    "$$\\sum_{j = 1}^{n}V_{i,j} \\leq s_{i}, \\forall i = 1 \\dots m$$\n",
    "The constraints on demand can be expressed as:\n",
    "$$\\sum_{i = 1}^{m}V_{i,j} \\geq d_{j}, \\forall j = 1 \\dots n$$\n",
    "The objective can be expressed as:\n",
    "$$\n",
    "minimize \\: v = \\sum_{i,j}V_{i,j} \\cdot C_{i,j}\n",
    "$$\n",
    "The constraints on supplies actually means that, for each starbase, the total number of conduits shipped from this starbase should be no larger than the amount that it can supply. The constrains on demands actually mean that, for each colony, the total number of conduits shipped to this colony from each starbase should be no less than its demand.\n",
    " \n",
    "Our objective aims to minimize the total cost $v$, which is expressed as $v = \\sum_{i,j}V_{i,j} \\cdot C_{i,j}$"
   ]
  },
  {
   "cell_type": "markdown",
   "metadata": {},
   "source": [
    "### Problem 2.2 and 2.3"
   ]
  },
  {
   "cell_type": "code",
   "execution_count": 2,
   "metadata": {
    "scrolled": true
   },
   "outputs": [
    {
     "name": "stdout",
     "output_type": "stream",
     "text": [
      "----------------------\n",
      "Result of problem 2.2\n",
      "----------------------\n",
      "     pcost       dcost       gap    pres   dres   k/t\n",
      " 0:  1.0971e+03  1.0971e+03  2e+03  4e-01  7e-01  1e+00\n",
      " 1:  1.1096e+03  1.1124e+03  3e+02  7e-02  1e-01  3e+00\n",
      " 2:  1.0290e+03  1.0299e+03  4e+01  1e-02  2e-02  9e-01\n",
      " 3:  1.0204e+03  1.0205e+03  3e+00  8e-04  1e-03  7e-02\n",
      " 4:  1.0200e+03  1.0200e+03  3e-02  8e-06  1e-05  8e-04\n",
      " 5:  1.0200e+03  1.0200e+03  3e-04  8e-08  1e-07  8e-06\n",
      " 6:  1.0200e+03  1.0200e+03  3e-06  8e-10  1e-09  8e-08\n",
      "Optimal solution found.\n",
      "The lowest cost of problem 2.2 is [ 1.02e+03]\n",
      "\n",
      "----------------------\n",
      "Result of problem 2.3\n",
      "----------------------\n",
      "     pcost       dcost       gap    pres   dres   k/t\n",
      " 0:  1.1708e+03  1.0681e+03  2e+03  3e-01  7e-01  1e+00\n",
      " 1:  1.1151e+03  1.0966e+03  3e+02  5e-02  1e-01  2e+00\n",
      " 2:  1.0131e+03  1.0111e+03  4e+01  7e-03  2e-02  8e-01\n",
      " 3:  1.0060e+03  1.0059e+03  3e+00  6e-04  1e-03  1e-01\n",
      " 4:  1.0050e+03  1.0050e+03  3e-02  6e-06  1e-05  1e-03\n",
      " 5:  1.0050e+03  1.0050e+03  3e-04  6e-08  1e-07  1e-05\n",
      " 6:  1.0050e+03  1.0050e+03  3e-06  6e-10  1e-09  1e-07\n",
      "Optimal solution found.\n",
      "The lowest cost of problem 2.3 is [ 1.01e+03]\n",
      "\n",
      "----------------------------------------------------------\n",
      "The decreased cost with the increased supply is [ 1.50e+01]\n",
      "\n"
     ]
    }
   ],
   "source": [
    "import cvxopt.modeling as cv\n",
    "from cvxopt import matrix\n",
    "\n",
    "\n",
    "def calculateCost(supply): \n",
    "    v_Triacus = cv.variable(3, \"Triacus\")\n",
    "    v_NewBerlin = cv.variable(3, \"NewBerlin\")\n",
    "    v_Strnad = cv.variable(3, \"Strnad\")\n",
    "    v_Vega = cv.variable(3, \"Vega\")\n",
    "    cost = matrix([[6., 9., 12.], [9., 5., 7.], [10., 16., 13.], [8., 14., 9]])\n",
    "    const_vector = matrix([1., 1., 1.])\n",
    "    c_demand_Triacus = (cv.dot(const_vector, v_Triacus) >= 20)\n",
    "    c_demand_NewBerlin = (cv.dot(const_vector, v_NewBerlin) >= 30)\n",
    "    c_demand_Strnad = (cv.dot(const_vector, v_Strnad) >= 30)\n",
    "    c_demand_Vega = (cv.dot(const_vector, v_Vega) >= 45)\n",
    "\n",
    "    c_Triacus = (v_Triacus >= 0)\n",
    "    c_NewBerlin = (v_NewBerlin >= 0)\n",
    "    c_Strnad = (v_Strnad >= 0)\n",
    "    c_Vega = (v_Vega >= 0)\n",
    "\n",
    "    f_supply = v_Triacus + v_NewBerlin + v_Strnad + v_Vega\n",
    "    c_supply = (f_supply <= supply)\n",
    "    obj = cv.dot(matrix([6., 9., 12.]), v_Triacus) + cv.dot(matrix([9., 5., 7.]), v_NewBerlin) + cv.dot(matrix([10., 16., 13.]), v_Strnad) + cv.dot(matrix([8., 14., 9.]), v_Vega)\n",
    "    lp1 = cv.op(obj, [c_demand_Triacus, c_demand_NewBerlin, c_demand_Strnad, c_demand_Vega, c_Triacus, c_NewBerlin, c_Strnad, c_Vega, c_supply])\n",
    "    lp1.solve()\n",
    "    lp1.status\n",
    "    return lp1.objective.value()\n",
    "\n",
    "\n",
    "#2nd part\n",
    "print(\"----------------------\")\n",
    "print(\"Result of problem 2.2\")\n",
    "print(\"----------------------\")\n",
    "resultTwo = calculateCost(matrix([35., 40., 50])) \n",
    "print(\"The lowest cost of problem 2.2 is \" + str(resultTwo))\n",
    "print(\"----------------------\")\n",
    "\n",
    "#3rd part\n",
    "print(\"Result of problem 2.3\")\n",
    "print(\"----------------------\")\n",
    "resultThree = calculateCost(matrix([40., 45., 55])) \n",
    "print(\"The lowest cost of problem 2.3 is \" + str(resultThree))\n",
    "print(\"----------------------------------------------------------\")\n",
    "\n",
    "differenceOfCost = resultTwo - resultThree\n",
    "\n",
    "print(\"The decreased cost with the increased supply is \" + str(differenceOfCost))"
   ]
  },
  {
   "cell_type": "markdown",
   "metadata": {},
   "source": [
    "# Question 3 (Not to be turned in).\n",
    "Use CVXOPT to model and solve the other examples in the textbook (sections 2.1 -- 2.6)."
   ]
  }
 ],
 "metadata": {
  "kernelspec": {
   "display_name": "Python 3",
   "language": "python",
   "name": "python3"
  },
  "language_info": {
   "codemirror_mode": {
    "name": "ipython",
    "version": 3
   },
   "file_extension": ".py",
   "mimetype": "text/x-python",
   "name": "python",
   "nbconvert_exporter": "python",
   "pygments_lexer": "ipython3",
   "version": "3.7.4"
  }
 },
 "nbformat": 4,
 "nbformat_minor": 2
}
